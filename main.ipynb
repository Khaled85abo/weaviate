{
 "cells": [
  {
   "cell_type": "code",
   "execution_count": 129,
   "metadata": {},
   "outputs": [
    {
     "name": "stdout",
     "output_type": "stream",
     "text": [
      "Note: you may need to restart the kernel to use updated packages.\n"
     ]
    },
    {
     "name": "stderr",
     "output_type": "stream",
     "text": [
      "c:\\Users\\khale\\machine_learning\\SMS\\weaviate\\venv\\Lib\\site-packages\\IPython\\utils\\_process_win32.py:124: ResourceWarning: unclosed file <_io.BufferedWriter name=3>\n",
      "  return process_handler(cmd, _system_body)\n",
      "ResourceWarning: Enable tracemalloc to get the object allocation traceback\n",
      "c:\\Users\\khale\\machine_learning\\SMS\\weaviate\\venv\\Lib\\site-packages\\IPython\\utils\\_process_win32.py:124: ResourceWarning: unclosed file <_io.BufferedReader name=4>\n",
      "  return process_handler(cmd, _system_body)\n",
      "ResourceWarning: Enable tracemalloc to get the object allocation traceback\n",
      "c:\\Users\\khale\\machine_learning\\SMS\\weaviate\\venv\\Lib\\site-packages\\IPython\\utils\\_process_win32.py:124: ResourceWarning: unclosed file <_io.BufferedReader name=5>\n",
      "  return process_handler(cmd, _system_body)\n",
      "ResourceWarning: Enable tracemalloc to get the object allocation traceback\n"
     ]
    },
    {
     "name": "stdout",
     "output_type": "stream",
     "text": [
      "Requirement already satisfied: load_dotenv in c:\\users\\khale\\machine_learning\\sms\\weaviate\\venv\\lib\\site-packages (0.1.0)\n",
      "Requirement already satisfied: python-dotenv in c:\\users\\khale\\machine_learning\\sms\\weaviate\\venv\\lib\\site-packages (from load_dotenv) (1.0.1)\n",
      "Note: you may need to restart the kernel to use updated packages.\n",
      "Requirement already satisfied: langchain-ollama in c:\\users\\khale\\machine_learning\\sms\\weaviate\\venv\\lib\\site-packages (0.2.0)\n",
      "Requirement already satisfied: langchain-core<0.4.0,>=0.3.0 in c:\\users\\khale\\machine_learning\\sms\\weaviate\\venv\\lib\\site-packages (from langchain-ollama) (0.3.10)\n",
      "Requirement already satisfied: ollama<1,>=0.3.0 in c:\\users\\khale\\machine_learning\\sms\\weaviate\\venv\\lib\\site-packages (from langchain-ollama) (0.3.3)\n",
      "Requirement already satisfied: PyYAML>=5.3 in c:\\users\\khale\\machine_learning\\sms\\weaviate\\venv\\lib\\site-packages (from langchain-core<0.4.0,>=0.3.0->langchain-ollama) (6.0.2)\n",
      "Requirement already satisfied: jsonpatch<2.0,>=1.33 in c:\\users\\khale\\machine_learning\\sms\\weaviate\\venv\\lib\\site-packages (from langchain-core<0.4.0,>=0.3.0->langchain-ollama) (1.33)\n",
      "Requirement already satisfied: langsmith<0.2.0,>=0.1.125 in c:\\users\\khale\\machine_learning\\sms\\weaviate\\venv\\lib\\site-packages (from langchain-core<0.4.0,>=0.3.0->langchain-ollama) (0.1.134)\n",
      "Requirement already satisfied: packaging<25,>=23.2 in c:\\users\\khale\\machine_learning\\sms\\weaviate\\venv\\lib\\site-packages (from langchain-core<0.4.0,>=0.3.0->langchain-ollama) (24.1)\n",
      "Requirement already satisfied: pydantic<3.0.0,>=2.5.2 in c:\\users\\khale\\machine_learning\\sms\\weaviate\\venv\\lib\\site-packages (from langchain-core<0.4.0,>=0.3.0->langchain-ollama) (2.9.2)\n",
      "Requirement already satisfied: tenacity!=8.4.0,<9.0.0,>=8.1.0 in c:\\users\\khale\\machine_learning\\sms\\weaviate\\venv\\lib\\site-packages (from langchain-core<0.4.0,>=0.3.0->langchain-ollama) (8.5.0)\n",
      "Requirement already satisfied: typing-extensions>=4.7 in c:\\users\\khale\\machine_learning\\sms\\weaviate\\venv\\lib\\site-packages (from langchain-core<0.4.0,>=0.3.0->langchain-ollama) (4.12.2)\n",
      "Requirement already satisfied: httpx<0.28.0,>=0.27.0 in c:\\users\\khale\\machine_learning\\sms\\weaviate\\venv\\lib\\site-packages (from ollama<1,>=0.3.0->langchain-ollama) (0.27.0)\n",
      "Requirement already satisfied: anyio in c:\\users\\khale\\machine_learning\\sms\\weaviate\\venv\\lib\\site-packages (from httpx<0.28.0,>=0.27.0->ollama<1,>=0.3.0->langchain-ollama) (4.6.0)\n",
      "Requirement already satisfied: certifi in c:\\users\\khale\\machine_learning\\sms\\weaviate\\venv\\lib\\site-packages (from httpx<0.28.0,>=0.27.0->ollama<1,>=0.3.0->langchain-ollama) (2024.8.30)\n",
      "Requirement already satisfied: httpcore==1.* in c:\\users\\khale\\machine_learning\\sms\\weaviate\\venv\\lib\\site-packages (from httpx<0.28.0,>=0.27.0->ollama<1,>=0.3.0->langchain-ollama) (1.0.6)\n",
      "Requirement already satisfied: idna in c:\\users\\khale\\machine_learning\\sms\\weaviate\\venv\\lib\\site-packages (from httpx<0.28.0,>=0.27.0->ollama<1,>=0.3.0->langchain-ollama) (3.10)\n",
      "Requirement already satisfied: sniffio in c:\\users\\khale\\machine_learning\\sms\\weaviate\\venv\\lib\\site-packages (from httpx<0.28.0,>=0.27.0->ollama<1,>=0.3.0->langchain-ollama) (1.3.1)\n",
      "Requirement already satisfied: h11<0.15,>=0.13 in c:\\users\\khale\\machine_learning\\sms\\weaviate\\venv\\lib\\site-packages (from httpcore==1.*->httpx<0.28.0,>=0.27.0->ollama<1,>=0.3.0->langchain-ollama) (0.14.0)\n",
      "Requirement already satisfied: jsonpointer>=1.9 in c:\\users\\khale\\machine_learning\\sms\\weaviate\\venv\\lib\\site-packages (from jsonpatch<2.0,>=1.33->langchain-core<0.4.0,>=0.3.0->langchain-ollama) (3.0.0)\n",
      "Requirement already satisfied: orjson<4.0.0,>=3.9.14 in c:\\users\\khale\\machine_learning\\sms\\weaviate\\venv\\lib\\site-packages (from langsmith<0.2.0,>=0.1.125->langchain-core<0.4.0,>=0.3.0->langchain-ollama) (3.10.7)\n",
      "Requirement already satisfied: requests<3,>=2 in c:\\users\\khale\\machine_learning\\sms\\weaviate\\venv\\lib\\site-packages (from langsmith<0.2.0,>=0.1.125->langchain-core<0.4.0,>=0.3.0->langchain-ollama) (2.32.3)\n",
      "Requirement already satisfied: requests-toolbelt<2.0.0,>=1.0.0 in c:\\users\\khale\\machine_learning\\sms\\weaviate\\venv\\lib\\site-packages (from langsmith<0.2.0,>=0.1.125->langchain-core<0.4.0,>=0.3.0->langchain-ollama) (1.0.0)\n",
      "Requirement already satisfied: annotated-types>=0.6.0 in c:\\users\\khale\\machine_learning\\sms\\weaviate\\venv\\lib\\site-packages (from pydantic<3.0.0,>=2.5.2->langchain-core<0.4.0,>=0.3.0->langchain-ollama) (0.7.0)\n",
      "Requirement already satisfied: pydantic-core==2.23.4 in c:\\users\\khale\\machine_learning\\sms\\weaviate\\venv\\lib\\site-packages (from pydantic<3.0.0,>=2.5.2->langchain-core<0.4.0,>=0.3.0->langchain-ollama) (2.23.4)\n",
      "Requirement already satisfied: charset-normalizer<4,>=2 in c:\\users\\khale\\machine_learning\\sms\\weaviate\\venv\\lib\\site-packages (from requests<3,>=2->langsmith<0.2.0,>=0.1.125->langchain-core<0.4.0,>=0.3.0->langchain-ollama) (3.4.0)\n",
      "Requirement already satisfied: urllib3<3,>=1.21.1 in c:\\users\\khale\\machine_learning\\sms\\weaviate\\venv\\lib\\site-packages (from requests<3,>=2->langsmith<0.2.0,>=0.1.125->langchain-core<0.4.0,>=0.3.0->langchain-ollama) (2.2.3)\n",
      "Note: you may need to restart the kernel to use updated packages.\n",
      "Requirement already satisfied: langchain_community in c:\\users\\khale\\machine_learning\\sms\\weaviate\\venv\\lib\\site-packages (0.3.2)\n",
      "Requirement already satisfied: PyYAML>=5.3 in c:\\users\\khale\\machine_learning\\sms\\weaviate\\venv\\lib\\site-packages (from langchain_community) (6.0.2)\n",
      "Requirement already satisfied: SQLAlchemy<3,>=1.4 in c:\\users\\khale\\machine_learning\\sms\\weaviate\\venv\\lib\\site-packages (from langchain_community) (2.0.35)\n",
      "Requirement already satisfied: aiohttp<4.0.0,>=3.8.3 in c:\\users\\khale\\machine_learning\\sms\\weaviate\\venv\\lib\\site-packages (from langchain_community) (3.10.10)\n",
      "Requirement already satisfied: dataclasses-json<0.7,>=0.5.7 in c:\\users\\khale\\machine_learning\\sms\\weaviate\\venv\\lib\\site-packages (from langchain_community) (0.6.7)\n",
      "Requirement already satisfied: langchain<0.4.0,>=0.3.3 in c:\\users\\khale\\machine_learning\\sms\\weaviate\\venv\\lib\\site-packages (from langchain_community) (0.3.3)\n",
      "Requirement already satisfied: langchain-core<0.4.0,>=0.3.10 in c:\\users\\khale\\machine_learning\\sms\\weaviate\\venv\\lib\\site-packages (from langchain_community) (0.3.10)\n",
      "Requirement already satisfied: langsmith<0.2.0,>=0.1.125 in c:\\users\\khale\\machine_learning\\sms\\weaviate\\venv\\lib\\site-packages (from langchain_community) (0.1.134)\n",
      "Requirement already satisfied: numpy<2,>=1 in c:\\users\\khale\\machine_learning\\sms\\weaviate\\venv\\lib\\site-packages (from langchain_community) (1.26.4)\n",
      "Requirement already satisfied: pydantic-settings<3.0.0,>=2.4.0 in c:\\users\\khale\\machine_learning\\sms\\weaviate\\venv\\lib\\site-packages (from langchain_community) (2.5.2)\n",
      "Requirement already satisfied: requests<3,>=2 in c:\\users\\khale\\machine_learning\\sms\\weaviate\\venv\\lib\\site-packages (from langchain_community) (2.32.3)\n",
      "Requirement already satisfied: tenacity!=8.4.0,<9.0.0,>=8.1.0 in c:\\users\\khale\\machine_learning\\sms\\weaviate\\venv\\lib\\site-packages (from langchain_community) (8.5.0)\n",
      "Requirement already satisfied: aiohappyeyeballs>=2.3.0 in c:\\users\\khale\\machine_learning\\sms\\weaviate\\venv\\lib\\site-packages (from aiohttp<4.0.0,>=3.8.3->langchain_community) (2.4.3)\n",
      "Requirement already satisfied: aiosignal>=1.1.2 in c:\\users\\khale\\machine_learning\\sms\\weaviate\\venv\\lib\\site-packages (from aiohttp<4.0.0,>=3.8.3->langchain_community) (1.3.1)\n",
      "Requirement already satisfied: attrs>=17.3.0 in c:\\users\\khale\\machine_learning\\sms\\weaviate\\venv\\lib\\site-packages (from aiohttp<4.0.0,>=3.8.3->langchain_community) (24.2.0)\n",
      "Requirement already satisfied: frozenlist>=1.1.1 in c:\\users\\khale\\machine_learning\\sms\\weaviate\\venv\\lib\\site-packages (from aiohttp<4.0.0,>=3.8.3->langchain_community) (1.4.1)\n",
      "Requirement already satisfied: multidict<7.0,>=4.5 in c:\\users\\khale\\machine_learning\\sms\\weaviate\\venv\\lib\\site-packages (from aiohttp<4.0.0,>=3.8.3->langchain_community) (6.1.0)\n",
      "Requirement already satisfied: yarl<2.0,>=1.12.0 in c:\\users\\khale\\machine_learning\\sms\\weaviate\\venv\\lib\\site-packages (from aiohttp<4.0.0,>=3.8.3->langchain_community) (1.15.1)\n",
      "Requirement already satisfied: marshmallow<4.0.0,>=3.18.0 in c:\\users\\khale\\machine_learning\\sms\\weaviate\\venv\\lib\\site-packages (from dataclasses-json<0.7,>=0.5.7->langchain_community) (3.22.0)\n",
      "Requirement already satisfied: typing-inspect<1,>=0.4.0 in c:\\users\\khale\\machine_learning\\sms\\weaviate\\venv\\lib\\site-packages (from dataclasses-json<0.7,>=0.5.7->langchain_community) (0.9.0)\n",
      "Requirement already satisfied: langchain-text-splitters<0.4.0,>=0.3.0 in c:\\users\\khale\\machine_learning\\sms\\weaviate\\venv\\lib\\site-packages (from langchain<0.4.0,>=0.3.3->langchain_community) (0.3.0)\n",
      "Requirement already satisfied: pydantic<3.0.0,>=2.7.4 in c:\\users\\khale\\machine_learning\\sms\\weaviate\\venv\\lib\\site-packages (from langchain<0.4.0,>=0.3.3->langchain_community) (2.9.2)\n",
      "Requirement already satisfied: jsonpatch<2.0,>=1.33 in c:\\users\\khale\\machine_learning\\sms\\weaviate\\venv\\lib\\site-packages (from langchain-core<0.4.0,>=0.3.10->langchain_community) (1.33)\n",
      "Requirement already satisfied: packaging<25,>=23.2 in c:\\users\\khale\\machine_learning\\sms\\weaviate\\venv\\lib\\site-packages (from langchain-core<0.4.0,>=0.3.10->langchain_community) (24.1)\n",
      "Requirement already satisfied: typing-extensions>=4.7 in c:\\users\\khale\\machine_learning\\sms\\weaviate\\venv\\lib\\site-packages (from langchain-core<0.4.0,>=0.3.10->langchain_community) (4.12.2)\n",
      "Requirement already satisfied: httpx<1,>=0.23.0 in c:\\users\\khale\\machine_learning\\sms\\weaviate\\venv\\lib\\site-packages (from langsmith<0.2.0,>=0.1.125->langchain_community) (0.27.0)\n",
      "Requirement already satisfied: orjson<4.0.0,>=3.9.14 in c:\\users\\khale\\machine_learning\\sms\\weaviate\\venv\\lib\\site-packages (from langsmith<0.2.0,>=0.1.125->langchain_community) (3.10.7)\n",
      "Requirement already satisfied: requests-toolbelt<2.0.0,>=1.0.0 in c:\\users\\khale\\machine_learning\\sms\\weaviate\\venv\\lib\\site-packages (from langsmith<0.2.0,>=0.1.125->langchain_community) (1.0.0)\n",
      "Requirement already satisfied: python-dotenv>=0.21.0 in c:\\users\\khale\\machine_learning\\sms\\weaviate\\venv\\lib\\site-packages (from pydantic-settings<3.0.0,>=2.4.0->langchain_community) (1.0.1)\n",
      "Requirement already satisfied: charset-normalizer<4,>=2 in c:\\users\\khale\\machine_learning\\sms\\weaviate\\venv\\lib\\site-packages (from requests<3,>=2->langchain_community) (3.4.0)\n",
      "Requirement already satisfied: idna<4,>=2.5 in c:\\users\\khale\\machine_learning\\sms\\weaviate\\venv\\lib\\site-packages (from requests<3,>=2->langchain_community) (3.10)\n",
      "Requirement already satisfied: urllib3<3,>=1.21.1 in c:\\users\\khale\\machine_learning\\sms\\weaviate\\venv\\lib\\site-packages (from requests<3,>=2->langchain_community) (2.2.3)\n",
      "Requirement already satisfied: certifi>=2017.4.17 in c:\\users\\khale\\machine_learning\\sms\\weaviate\\venv\\lib\\site-packages (from requests<3,>=2->langchain_community) (2024.8.30)\n",
      "Requirement already satisfied: greenlet!=0.4.17 in c:\\users\\khale\\machine_learning\\sms\\weaviate\\venv\\lib\\site-packages (from SQLAlchemy<3,>=1.4->langchain_community) (3.1.1)\n",
      "Requirement already satisfied: anyio in c:\\users\\khale\\machine_learning\\sms\\weaviate\\venv\\lib\\site-packages (from httpx<1,>=0.23.0->langsmith<0.2.0,>=0.1.125->langchain_community) (4.6.0)\n",
      "Requirement already satisfied: httpcore==1.* in c:\\users\\khale\\machine_learning\\sms\\weaviate\\venv\\lib\\site-packages (from httpx<1,>=0.23.0->langsmith<0.2.0,>=0.1.125->langchain_community) (1.0.6)\n",
      "Requirement already satisfied: sniffio in c:\\users\\khale\\machine_learning\\sms\\weaviate\\venv\\lib\\site-packages (from httpx<1,>=0.23.0->langsmith<0.2.0,>=0.1.125->langchain_community) (1.3.1)\n",
      "Requirement already satisfied: h11<0.15,>=0.13 in c:\\users\\khale\\machine_learning\\sms\\weaviate\\venv\\lib\\site-packages (from httpcore==1.*->httpx<1,>=0.23.0->langsmith<0.2.0,>=0.1.125->langchain_community) (0.14.0)\n",
      "Requirement already satisfied: jsonpointer>=1.9 in c:\\users\\khale\\machine_learning\\sms\\weaviate\\venv\\lib\\site-packages (from jsonpatch<2.0,>=1.33->langchain-core<0.4.0,>=0.3.10->langchain_community) (3.0.0)\n",
      "Requirement already satisfied: annotated-types>=0.6.0 in c:\\users\\khale\\machine_learning\\sms\\weaviate\\venv\\lib\\site-packages (from pydantic<3.0.0,>=2.7.4->langchain<0.4.0,>=0.3.3->langchain_community) (0.7.0)\n",
      "Requirement already satisfied: pydantic-core==2.23.4 in c:\\users\\khale\\machine_learning\\sms\\weaviate\\venv\\lib\\site-packages (from pydantic<3.0.0,>=2.7.4->langchain<0.4.0,>=0.3.3->langchain_community) (2.23.4)\n",
      "Requirement already satisfied: mypy-extensions>=0.3.0 in c:\\users\\khale\\machine_learning\\sms\\weaviate\\venv\\lib\\site-packages (from typing-inspect<1,>=0.4.0->dataclasses-json<0.7,>=0.5.7->langchain_community) (1.0.0)\n",
      "Requirement already satisfied: propcache>=0.2.0 in c:\\users\\khale\\machine_learning\\sms\\weaviate\\venv\\lib\\site-packages (from yarl<2.0,>=1.12.0->aiohttp<4.0.0,>=3.8.3->langchain_community) (0.2.0)\n",
      "Note: you may need to restart the kernel to use updated packages.\n",
      "Requirement already satisfied: langchain in c:\\users\\khale\\machine_learning\\sms\\weaviate\\venv\\lib\\site-packages (0.3.3)\n",
      "Requirement already satisfied: PyYAML>=5.3 in c:\\users\\khale\\machine_learning\\sms\\weaviate\\venv\\lib\\site-packages (from langchain) (6.0.2)\n",
      "Requirement already satisfied: SQLAlchemy<3,>=1.4 in c:\\users\\khale\\machine_learning\\sms\\weaviate\\venv\\lib\\site-packages (from langchain) (2.0.35)\n",
      "Requirement already satisfied: aiohttp<4.0.0,>=3.8.3 in c:\\users\\khale\\machine_learning\\sms\\weaviate\\venv\\lib\\site-packages (from langchain) (3.10.10)\n",
      "Requirement already satisfied: langchain-core<0.4.0,>=0.3.10 in c:\\users\\khale\\machine_learning\\sms\\weaviate\\venv\\lib\\site-packages (from langchain) (0.3.10)\n",
      "Requirement already satisfied: langchain-text-splitters<0.4.0,>=0.3.0 in c:\\users\\khale\\machine_learning\\sms\\weaviate\\venv\\lib\\site-packages (from langchain) (0.3.0)\n",
      "Requirement already satisfied: langsmith<0.2.0,>=0.1.17 in c:\\users\\khale\\machine_learning\\sms\\weaviate\\venv\\lib\\site-packages (from langchain) (0.1.134)\n",
      "Requirement already satisfied: numpy<2,>=1 in c:\\users\\khale\\machine_learning\\sms\\weaviate\\venv\\lib\\site-packages (from langchain) (1.26.4)\n",
      "Requirement already satisfied: pydantic<3.0.0,>=2.7.4 in c:\\users\\khale\\machine_learning\\sms\\weaviate\\venv\\lib\\site-packages (from langchain) (2.9.2)\n",
      "Requirement already satisfied: requests<3,>=2 in c:\\users\\khale\\machine_learning\\sms\\weaviate\\venv\\lib\\site-packages (from langchain) (2.32.3)\n",
      "Requirement already satisfied: tenacity!=8.4.0,<9.0.0,>=8.1.0 in c:\\users\\khale\\machine_learning\\sms\\weaviate\\venv\\lib\\site-packages (from langchain) (8.5.0)\n",
      "Requirement already satisfied: aiohappyeyeballs>=2.3.0 in c:\\users\\khale\\machine_learning\\sms\\weaviate\\venv\\lib\\site-packages (from aiohttp<4.0.0,>=3.8.3->langchain) (2.4.3)\n",
      "Requirement already satisfied: aiosignal>=1.1.2 in c:\\users\\khale\\machine_learning\\sms\\weaviate\\venv\\lib\\site-packages (from aiohttp<4.0.0,>=3.8.3->langchain) (1.3.1)\n",
      "Requirement already satisfied: attrs>=17.3.0 in c:\\users\\khale\\machine_learning\\sms\\weaviate\\venv\\lib\\site-packages (from aiohttp<4.0.0,>=3.8.3->langchain) (24.2.0)\n",
      "Requirement already satisfied: frozenlist>=1.1.1 in c:\\users\\khale\\machine_learning\\sms\\weaviate\\venv\\lib\\site-packages (from aiohttp<4.0.0,>=3.8.3->langchain) (1.4.1)\n",
      "Requirement already satisfied: multidict<7.0,>=4.5 in c:\\users\\khale\\machine_learning\\sms\\weaviate\\venv\\lib\\site-packages (from aiohttp<4.0.0,>=3.8.3->langchain) (6.1.0)\n",
      "Requirement already satisfied: yarl<2.0,>=1.12.0 in c:\\users\\khale\\machine_learning\\sms\\weaviate\\venv\\lib\\site-packages (from aiohttp<4.0.0,>=3.8.3->langchain) (1.15.1)\n",
      "Requirement already satisfied: jsonpatch<2.0,>=1.33 in c:\\users\\khale\\machine_learning\\sms\\weaviate\\venv\\lib\\site-packages (from langchain-core<0.4.0,>=0.3.10->langchain) (1.33)\n",
      "Requirement already satisfied: packaging<25,>=23.2 in c:\\users\\khale\\machine_learning\\sms\\weaviate\\venv\\lib\\site-packages (from langchain-core<0.4.0,>=0.3.10->langchain) (24.1)\n",
      "Requirement already satisfied: typing-extensions>=4.7 in c:\\users\\khale\\machine_learning\\sms\\weaviate\\venv\\lib\\site-packages (from langchain-core<0.4.0,>=0.3.10->langchain) (4.12.2)\n",
      "Requirement already satisfied: httpx<1,>=0.23.0 in c:\\users\\khale\\machine_learning\\sms\\weaviate\\venv\\lib\\site-packages (from langsmith<0.2.0,>=0.1.17->langchain) (0.27.0)\n",
      "Requirement already satisfied: orjson<4.0.0,>=3.9.14 in c:\\users\\khale\\machine_learning\\sms\\weaviate\\venv\\lib\\site-packages (from langsmith<0.2.0,>=0.1.17->langchain) (3.10.7)\n",
      "Requirement already satisfied: requests-toolbelt<2.0.0,>=1.0.0 in c:\\users\\khale\\machine_learning\\sms\\weaviate\\venv\\lib\\site-packages (from langsmith<0.2.0,>=0.1.17->langchain) (1.0.0)\n",
      "Requirement already satisfied: annotated-types>=0.6.0 in c:\\users\\khale\\machine_learning\\sms\\weaviate\\venv\\lib\\site-packages (from pydantic<3.0.0,>=2.7.4->langchain) (0.7.0)\n",
      "Requirement already satisfied: pydantic-core==2.23.4 in c:\\users\\khale\\machine_learning\\sms\\weaviate\\venv\\lib\\site-packages (from pydantic<3.0.0,>=2.7.4->langchain) (2.23.4)\n",
      "Requirement already satisfied: charset-normalizer<4,>=2 in c:\\users\\khale\\machine_learning\\sms\\weaviate\\venv\\lib\\site-packages (from requests<3,>=2->langchain) (3.4.0)\n",
      "Requirement already satisfied: idna<4,>=2.5 in c:\\users\\khale\\machine_learning\\sms\\weaviate\\venv\\lib\\site-packages (from requests<3,>=2->langchain) (3.10)\n",
      "Requirement already satisfied: urllib3<3,>=1.21.1 in c:\\users\\khale\\machine_learning\\sms\\weaviate\\venv\\lib\\site-packages (from requests<3,>=2->langchain) (2.2.3)\n",
      "Requirement already satisfied: certifi>=2017.4.17 in c:\\users\\khale\\machine_learning\\sms\\weaviate\\venv\\lib\\site-packages (from requests<3,>=2->langchain) (2024.8.30)\n",
      "Requirement already satisfied: greenlet!=0.4.17 in c:\\users\\khale\\machine_learning\\sms\\weaviate\\venv\\lib\\site-packages (from SQLAlchemy<3,>=1.4->langchain) (3.1.1)\n",
      "Requirement already satisfied: anyio in c:\\users\\khale\\machine_learning\\sms\\weaviate\\venv\\lib\\site-packages (from httpx<1,>=0.23.0->langsmith<0.2.0,>=0.1.17->langchain) (4.6.0)\n",
      "Requirement already satisfied: httpcore==1.* in c:\\users\\khale\\machine_learning\\sms\\weaviate\\venv\\lib\\site-packages (from httpx<1,>=0.23.0->langsmith<0.2.0,>=0.1.17->langchain) (1.0.6)\n",
      "Requirement already satisfied: sniffio in c:\\users\\khale\\machine_learning\\sms\\weaviate\\venv\\lib\\site-packages (from httpx<1,>=0.23.0->langsmith<0.2.0,>=0.1.17->langchain) (1.3.1)\n",
      "Requirement already satisfied: h11<0.15,>=0.13 in c:\\users\\khale\\machine_learning\\sms\\weaviate\\venv\\lib\\site-packages (from httpcore==1.*->httpx<1,>=0.23.0->langsmith<0.2.0,>=0.1.17->langchain) (0.14.0)\n",
      "Requirement already satisfied: jsonpointer>=1.9 in c:\\users\\khale\\machine_learning\\sms\\weaviate\\venv\\lib\\site-packages (from jsonpatch<2.0,>=1.33->langchain-core<0.4.0,>=0.3.10->langchain) (3.0.0)\n",
      "Requirement already satisfied: propcache>=0.2.0 in c:\\users\\khale\\machine_learning\\sms\\weaviate\\venv\\lib\\site-packages (from yarl<2.0,>=1.12.0->aiohttp<4.0.0,>=3.8.3->langchain) (0.2.0)\n",
      "Note: you may need to restart the kernel to use updated packages.\n",
      "Requirement already satisfied: weaviate-client in c:\\users\\khale\\machine_learning\\sms\\weaviate\\venv\\lib\\site-packages (4.8.1)\n",
      "Requirement already satisfied: requests<3.0.0,>=2.30.0 in c:\\users\\khale\\machine_learning\\sms\\weaviate\\venv\\lib\\site-packages (from weaviate-client) (2.32.3)\n",
      "Requirement already satisfied: httpx<=0.27.0,>=0.25.0 in c:\\users\\khale\\machine_learning\\sms\\weaviate\\venv\\lib\\site-packages (from weaviate-client) (0.27.0)\n",
      "Requirement already satisfied: validators==0.34.0 in c:\\users\\khale\\machine_learning\\sms\\weaviate\\venv\\lib\\site-packages (from weaviate-client) (0.34.0)\n",
      "Requirement already satisfied: authlib<1.3.2,>=1.2.1 in c:\\users\\khale\\machine_learning\\sms\\weaviate\\venv\\lib\\site-packages (from weaviate-client) (1.3.1)\n",
      "Requirement already satisfied: pydantic<3.0.0,>=2.5.0 in c:\\users\\khale\\machine_learning\\sms\\weaviate\\venv\\lib\\site-packages (from weaviate-client) (2.9.2)\n",
      "Requirement already satisfied: grpcio<2.0.0,>=1.57.0 in c:\\users\\khale\\machine_learning\\sms\\weaviate\\venv\\lib\\site-packages (from weaviate-client) (1.66.2)\n",
      "Requirement already satisfied: grpcio-tools<2.0.0,>=1.57.0 in c:\\users\\khale\\machine_learning\\sms\\weaviate\\venv\\lib\\site-packages (from weaviate-client) (1.66.2)\n",
      "Requirement already satisfied: grpcio-health-checking<2.0.0,>=1.57.0 in c:\\users\\khale\\machine_learning\\sms\\weaviate\\venv\\lib\\site-packages (from weaviate-client) (1.66.2)\n",
      "Requirement already satisfied: cryptography in c:\\users\\khale\\machine_learning\\sms\\weaviate\\venv\\lib\\site-packages (from authlib<1.3.2,>=1.2.1->weaviate-client) (43.0.1)\n",
      "Requirement already satisfied: protobuf<6.0dev,>=5.26.1 in c:\\users\\khale\\machine_learning\\sms\\weaviate\\venv\\lib\\site-packages (from grpcio-health-checking<2.0.0,>=1.57.0->weaviate-client) (5.28.2)\n",
      "Requirement already satisfied: setuptools in c:\\users\\khale\\machine_learning\\sms\\weaviate\\venv\\lib\\site-packages (from grpcio-tools<2.0.0,>=1.57.0->weaviate-client) (65.5.0)\n",
      "Requirement already satisfied: anyio in c:\\users\\khale\\machine_learning\\sms\\weaviate\\venv\\lib\\site-packages (from httpx<=0.27.0,>=0.25.0->weaviate-client) (4.6.0)\n",
      "Requirement already satisfied: certifi in c:\\users\\khale\\machine_learning\\sms\\weaviate\\venv\\lib\\site-packages (from httpx<=0.27.0,>=0.25.0->weaviate-client) (2024.8.30)\n",
      "Requirement already satisfied: httpcore==1.* in c:\\users\\khale\\machine_learning\\sms\\weaviate\\venv\\lib\\site-packages (from httpx<=0.27.0,>=0.25.0->weaviate-client) (1.0.6)\n",
      "Requirement already satisfied: idna in c:\\users\\khale\\machine_learning\\sms\\weaviate\\venv\\lib\\site-packages (from httpx<=0.27.0,>=0.25.0->weaviate-client) (3.10)\n",
      "Requirement already satisfied: sniffio in c:\\users\\khale\\machine_learning\\sms\\weaviate\\venv\\lib\\site-packages (from httpx<=0.27.0,>=0.25.0->weaviate-client) (1.3.1)\n",
      "Requirement already satisfied: h11<0.15,>=0.13 in c:\\users\\khale\\machine_learning\\sms\\weaviate\\venv\\lib\\site-packages (from httpcore==1.*->httpx<=0.27.0,>=0.25.0->weaviate-client) (0.14.0)\n",
      "Requirement already satisfied: annotated-types>=0.6.0 in c:\\users\\khale\\machine_learning\\sms\\weaviate\\venv\\lib\\site-packages (from pydantic<3.0.0,>=2.5.0->weaviate-client) (0.7.0)\n",
      "Requirement already satisfied: pydantic-core==2.23.4 in c:\\users\\khale\\machine_learning\\sms\\weaviate\\venv\\lib\\site-packages (from pydantic<3.0.0,>=2.5.0->weaviate-client) (2.23.4)\n",
      "Requirement already satisfied: typing-extensions>=4.6.1 in c:\\users\\khale\\machine_learning\\sms\\weaviate\\venv\\lib\\site-packages (from pydantic<3.0.0,>=2.5.0->weaviate-client) (4.12.2)\n",
      "Requirement already satisfied: charset-normalizer<4,>=2 in c:\\users\\khale\\machine_learning\\sms\\weaviate\\venv\\lib\\site-packages (from requests<3.0.0,>=2.30.0->weaviate-client) (3.4.0)\n",
      "Requirement already satisfied: urllib3<3,>=1.21.1 in c:\\users\\khale\\machine_learning\\sms\\weaviate\\venv\\lib\\site-packages (from requests<3.0.0,>=2.30.0->weaviate-client) (2.2.3)\n",
      "Requirement already satisfied: cffi>=1.12 in c:\\users\\khale\\machine_learning\\sms\\weaviate\\venv\\lib\\site-packages (from cryptography->authlib<1.3.2,>=1.2.1->weaviate-client) (1.17.1)\n",
      "Requirement already satisfied: pycparser in c:\\users\\khale\\machine_learning\\sms\\weaviate\\venv\\lib\\site-packages (from cffi>=1.12->cryptography->authlib<1.3.2,>=1.2.1->weaviate-client) (2.22)\n",
      "Note: you may need to restart the kernel to use updated packages.\n",
      "Requirement already satisfied: langchain-openai in c:\\users\\khale\\machine_learning\\sms\\weaviate\\venv\\lib\\site-packages (0.2.2)\n",
      "Requirement already satisfied: langchain-core<0.4.0,>=0.3.9 in c:\\users\\khale\\machine_learning\\sms\\weaviate\\venv\\lib\\site-packages (from langchain-openai) (0.3.10)\n",
      "Requirement already satisfied: openai<2.0.0,>=1.40.0 in c:\\users\\khale\\machine_learning\\sms\\weaviate\\venv\\lib\\site-packages (from langchain-openai) (1.51.2)\n",
      "Requirement already satisfied: tiktoken<1,>=0.7 in c:\\users\\khale\\machine_learning\\sms\\weaviate\\venv\\lib\\site-packages (from langchain-openai) (0.8.0)\n",
      "Requirement already satisfied: PyYAML>=5.3 in c:\\users\\khale\\machine_learning\\sms\\weaviate\\venv\\lib\\site-packages (from langchain-core<0.4.0,>=0.3.9->langchain-openai) (6.0.2)\n",
      "Requirement already satisfied: jsonpatch<2.0,>=1.33 in c:\\users\\khale\\machine_learning\\sms\\weaviate\\venv\\lib\\site-packages (from langchain-core<0.4.0,>=0.3.9->langchain-openai) (1.33)\n",
      "Requirement already satisfied: langsmith<0.2.0,>=0.1.125 in c:\\users\\khale\\machine_learning\\sms\\weaviate\\venv\\lib\\site-packages (from langchain-core<0.4.0,>=0.3.9->langchain-openai) (0.1.134)\n",
      "Requirement already satisfied: packaging<25,>=23.2 in c:\\users\\khale\\machine_learning\\sms\\weaviate\\venv\\lib\\site-packages (from langchain-core<0.4.0,>=0.3.9->langchain-openai) (24.1)\n",
      "Requirement already satisfied: pydantic<3.0.0,>=2.5.2 in c:\\users\\khale\\machine_learning\\sms\\weaviate\\venv\\lib\\site-packages (from langchain-core<0.4.0,>=0.3.9->langchain-openai) (2.9.2)\n",
      "Requirement already satisfied: tenacity!=8.4.0,<9.0.0,>=8.1.0 in c:\\users\\khale\\machine_learning\\sms\\weaviate\\venv\\lib\\site-packages (from langchain-core<0.4.0,>=0.3.9->langchain-openai) (8.5.0)\n",
      "Requirement already satisfied: typing-extensions>=4.7 in c:\\users\\khale\\machine_learning\\sms\\weaviate\\venv\\lib\\site-packages (from langchain-core<0.4.0,>=0.3.9->langchain-openai) (4.12.2)\n",
      "Requirement already satisfied: anyio<5,>=3.5.0 in c:\\users\\khale\\machine_learning\\sms\\weaviate\\venv\\lib\\site-packages (from openai<2.0.0,>=1.40.0->langchain-openai) (4.6.0)\n",
      "Requirement already satisfied: distro<2,>=1.7.0 in c:\\users\\khale\\machine_learning\\sms\\weaviate\\venv\\lib\\site-packages (from openai<2.0.0,>=1.40.0->langchain-openai) (1.9.0)\n",
      "Requirement already satisfied: httpx<1,>=0.23.0 in c:\\users\\khale\\machine_learning\\sms\\weaviate\\venv\\lib\\site-packages (from openai<2.0.0,>=1.40.0->langchain-openai) (0.27.0)\n",
      "Requirement already satisfied: jiter<1,>=0.4.0 in c:\\users\\khale\\machine_learning\\sms\\weaviate\\venv\\lib\\site-packages (from openai<2.0.0,>=1.40.0->langchain-openai) (0.6.1)\n",
      "Requirement already satisfied: sniffio in c:\\users\\khale\\machine_learning\\sms\\weaviate\\venv\\lib\\site-packages (from openai<2.0.0,>=1.40.0->langchain-openai) (1.3.1)\n",
      "Requirement already satisfied: tqdm>4 in c:\\users\\khale\\machine_learning\\sms\\weaviate\\venv\\lib\\site-packages (from openai<2.0.0,>=1.40.0->langchain-openai) (4.66.5)\n",
      "Requirement already satisfied: regex>=2022.1.18 in c:\\users\\khale\\machine_learning\\sms\\weaviate\\venv\\lib\\site-packages (from tiktoken<1,>=0.7->langchain-openai) (2024.9.11)\n",
      "Requirement already satisfied: requests>=2.26.0 in c:\\users\\khale\\machine_learning\\sms\\weaviate\\venv\\lib\\site-packages (from tiktoken<1,>=0.7->langchain-openai) (2.32.3)\n",
      "Requirement already satisfied: idna>=2.8 in c:\\users\\khale\\machine_learning\\sms\\weaviate\\venv\\lib\\site-packages (from anyio<5,>=3.5.0->openai<2.0.0,>=1.40.0->langchain-openai) (3.10)\n",
      "Requirement already satisfied: certifi in c:\\users\\khale\\machine_learning\\sms\\weaviate\\venv\\lib\\site-packages (from httpx<1,>=0.23.0->openai<2.0.0,>=1.40.0->langchain-openai) (2024.8.30)\n",
      "Requirement already satisfied: httpcore==1.* in c:\\users\\khale\\machine_learning\\sms\\weaviate\\venv\\lib\\site-packages (from httpx<1,>=0.23.0->openai<2.0.0,>=1.40.0->langchain-openai) (1.0.6)\n",
      "Requirement already satisfied: h11<0.15,>=0.13 in c:\\users\\khale\\machine_learning\\sms\\weaviate\\venv\\lib\\site-packages (from httpcore==1.*->httpx<1,>=0.23.0->openai<2.0.0,>=1.40.0->langchain-openai) (0.14.0)\n",
      "Requirement already satisfied: jsonpointer>=1.9 in c:\\users\\khale\\machine_learning\\sms\\weaviate\\venv\\lib\\site-packages (from jsonpatch<2.0,>=1.33->langchain-core<0.4.0,>=0.3.9->langchain-openai) (3.0.0)\n",
      "Requirement already satisfied: orjson<4.0.0,>=3.9.14 in c:\\users\\khale\\machine_learning\\sms\\weaviate\\venv\\lib\\site-packages (from langsmith<0.2.0,>=0.1.125->langchain-core<0.4.0,>=0.3.9->langchain-openai) (3.10.7)\n",
      "Requirement already satisfied: requests-toolbelt<2.0.0,>=1.0.0 in c:\\users\\khale\\machine_learning\\sms\\weaviate\\venv\\lib\\site-packages (from langsmith<0.2.0,>=0.1.125->langchain-core<0.4.0,>=0.3.9->langchain-openai) (1.0.0)\n",
      "Requirement already satisfied: annotated-types>=0.6.0 in c:\\users\\khale\\machine_learning\\sms\\weaviate\\venv\\lib\\site-packages (from pydantic<3.0.0,>=2.5.2->langchain-core<0.4.0,>=0.3.9->langchain-openai) (0.7.0)\n",
      "Requirement already satisfied: pydantic-core==2.23.4 in c:\\users\\khale\\machine_learning\\sms\\weaviate\\venv\\lib\\site-packages (from pydantic<3.0.0,>=2.5.2->langchain-core<0.4.0,>=0.3.9->langchain-openai) (2.23.4)\n",
      "Requirement already satisfied: charset-normalizer<4,>=2 in c:\\users\\khale\\machine_learning\\sms\\weaviate\\venv\\lib\\site-packages (from requests>=2.26.0->tiktoken<1,>=0.7->langchain-openai) (3.4.0)\n",
      "Requirement already satisfied: urllib3<3,>=1.21.1 in c:\\users\\khale\\machine_learning\\sms\\weaviate\\venv\\lib\\site-packages (from requests>=2.26.0->tiktoken<1,>=0.7->langchain-openai) (2.2.3)\n",
      "Requirement already satisfied: colorama in c:\\users\\khale\\machine_learning\\sms\\weaviate\\venv\\lib\\site-packages (from tqdm>4->openai<2.0.0,>=1.40.0->langchain-openai) (0.4.6)\n",
      "Note: you may need to restart the kernel to use updated packages.\n",
      "Requirement already satisfied: langchain-weaviate in c:\\users\\khale\\machine_learning\\sms\\weaviate\\venv\\lib\\site-packages (0.0.3)\n",
      "Requirement already satisfied: langchain-core<0.4,>=0.1.33 in c:\\users\\khale\\machine_learning\\sms\\weaviate\\venv\\lib\\site-packages (from langchain-weaviate) (0.3.10)\n",
      "Requirement already satisfied: numpy<2.0.0,>=1.26.2 in c:\\users\\khale\\machine_learning\\sms\\weaviate\\venv\\lib\\site-packages (from langchain-weaviate) (1.26.4)\n",
      "Requirement already satisfied: simsimd<5.0.0,>=3.6.1 in c:\\users\\khale\\machine_learning\\sms\\weaviate\\venv\\lib\\site-packages (from langchain-weaviate) (4.4.0)\n",
      "Requirement already satisfied: weaviate-client<5.0.0,>=4.0.0 in c:\\users\\khale\\machine_learning\\sms\\weaviate\\venv\\lib\\site-packages (from langchain-weaviate) (4.8.1)\n",
      "Requirement already satisfied: PyYAML>=5.3 in c:\\users\\khale\\machine_learning\\sms\\weaviate\\venv\\lib\\site-packages (from langchain-core<0.4,>=0.1.33->langchain-weaviate) (6.0.2)\n",
      "Requirement already satisfied: jsonpatch<2.0,>=1.33 in c:\\users\\khale\\machine_learning\\sms\\weaviate\\venv\\lib\\site-packages (from langchain-core<0.4,>=0.1.33->langchain-weaviate) (1.33)\n",
      "Requirement already satisfied: langsmith<0.2.0,>=0.1.125 in c:\\users\\khale\\machine_learning\\sms\\weaviate\\venv\\lib\\site-packages (from langchain-core<0.4,>=0.1.33->langchain-weaviate) (0.1.134)\n",
      "Requirement already satisfied: packaging<25,>=23.2 in c:\\users\\khale\\machine_learning\\sms\\weaviate\\venv\\lib\\site-packages (from langchain-core<0.4,>=0.1.33->langchain-weaviate) (24.1)\n",
      "Requirement already satisfied: pydantic<3.0.0,>=2.5.2 in c:\\users\\khale\\machine_learning\\sms\\weaviate\\venv\\lib\\site-packages (from langchain-core<0.4,>=0.1.33->langchain-weaviate) (2.9.2)\n",
      "Requirement already satisfied: tenacity!=8.4.0,<9.0.0,>=8.1.0 in c:\\users\\khale\\machine_learning\\sms\\weaviate\\venv\\lib\\site-packages (from langchain-core<0.4,>=0.1.33->langchain-weaviate) (8.5.0)\n",
      "Requirement already satisfied: typing-extensions>=4.7 in c:\\users\\khale\\machine_learning\\sms\\weaviate\\venv\\lib\\site-packages (from langchain-core<0.4,>=0.1.33->langchain-weaviate) (4.12.2)\n",
      "Requirement already satisfied: requests<3.0.0,>=2.30.0 in c:\\users\\khale\\machine_learning\\sms\\weaviate\\venv\\lib\\site-packages (from weaviate-client<5.0.0,>=4.0.0->langchain-weaviate) (2.32.3)\n",
      "Requirement already satisfied: httpx<=0.27.0,>=0.25.0 in c:\\users\\khale\\machine_learning\\sms\\weaviate\\venv\\lib\\site-packages (from weaviate-client<5.0.0,>=4.0.0->langchain-weaviate) (0.27.0)\n",
      "Requirement already satisfied: validators==0.34.0 in c:\\users\\khale\\machine_learning\\sms\\weaviate\\venv\\lib\\site-packages (from weaviate-client<5.0.0,>=4.0.0->langchain-weaviate) (0.34.0)\n",
      "Requirement already satisfied: authlib<1.3.2,>=1.2.1 in c:\\users\\khale\\machine_learning\\sms\\weaviate\\venv\\lib\\site-packages (from weaviate-client<5.0.0,>=4.0.0->langchain-weaviate) (1.3.1)\n",
      "Requirement already satisfied: grpcio<2.0.0,>=1.57.0 in c:\\users\\khale\\machine_learning\\sms\\weaviate\\venv\\lib\\site-packages (from weaviate-client<5.0.0,>=4.0.0->langchain-weaviate) (1.66.2)\n",
      "Requirement already satisfied: grpcio-tools<2.0.0,>=1.57.0 in c:\\users\\khale\\machine_learning\\sms\\weaviate\\venv\\lib\\site-packages (from weaviate-client<5.0.0,>=4.0.0->langchain-weaviate) (1.66.2)\n",
      "Requirement already satisfied: grpcio-health-checking<2.0.0,>=1.57.0 in c:\\users\\khale\\machine_learning\\sms\\weaviate\\venv\\lib\\site-packages (from weaviate-client<5.0.0,>=4.0.0->langchain-weaviate) (1.66.2)\n",
      "Requirement already satisfied: cryptography in c:\\users\\khale\\machine_learning\\sms\\weaviate\\venv\\lib\\site-packages (from authlib<1.3.2,>=1.2.1->weaviate-client<5.0.0,>=4.0.0->langchain-weaviate) (43.0.1)\n",
      "Requirement already satisfied: protobuf<6.0dev,>=5.26.1 in c:\\users\\khale\\machine_learning\\sms\\weaviate\\venv\\lib\\site-packages (from grpcio-health-checking<2.0.0,>=1.57.0->weaviate-client<5.0.0,>=4.0.0->langchain-weaviate) (5.28.2)\n",
      "Requirement already satisfied: setuptools in c:\\users\\khale\\machine_learning\\sms\\weaviate\\venv\\lib\\site-packages (from grpcio-tools<2.0.0,>=1.57.0->weaviate-client<5.0.0,>=4.0.0->langchain-weaviate) (65.5.0)\n",
      "Requirement already satisfied: anyio in c:\\users\\khale\\machine_learning\\sms\\weaviate\\venv\\lib\\site-packages (from httpx<=0.27.0,>=0.25.0->weaviate-client<5.0.0,>=4.0.0->langchain-weaviate) (4.6.0)\n",
      "Requirement already satisfied: certifi in c:\\users\\khale\\machine_learning\\sms\\weaviate\\venv\\lib\\site-packages (from httpx<=0.27.0,>=0.25.0->weaviate-client<5.0.0,>=4.0.0->langchain-weaviate) (2024.8.30)\n",
      "Requirement already satisfied: httpcore==1.* in c:\\users\\khale\\machine_learning\\sms\\weaviate\\venv\\lib\\site-packages (from httpx<=0.27.0,>=0.25.0->weaviate-client<5.0.0,>=4.0.0->langchain-weaviate) (1.0.6)\n",
      "Requirement already satisfied: idna in c:\\users\\khale\\machine_learning\\sms\\weaviate\\venv\\lib\\site-packages (from httpx<=0.27.0,>=0.25.0->weaviate-client<5.0.0,>=4.0.0->langchain-weaviate) (3.10)\n",
      "Requirement already satisfied: sniffio in c:\\users\\khale\\machine_learning\\sms\\weaviate\\venv\\lib\\site-packages (from httpx<=0.27.0,>=0.25.0->weaviate-client<5.0.0,>=4.0.0->langchain-weaviate) (1.3.1)\n",
      "Requirement already satisfied: h11<0.15,>=0.13 in c:\\users\\khale\\machine_learning\\sms\\weaviate\\venv\\lib\\site-packages (from httpcore==1.*->httpx<=0.27.0,>=0.25.0->weaviate-client<5.0.0,>=4.0.0->langchain-weaviate) (0.14.0)\n",
      "Requirement already satisfied: jsonpointer>=1.9 in c:\\users\\khale\\machine_learning\\sms\\weaviate\\venv\\lib\\site-packages (from jsonpatch<2.0,>=1.33->langchain-core<0.4,>=0.1.33->langchain-weaviate) (3.0.0)\n",
      "Requirement already satisfied: orjson<4.0.0,>=3.9.14 in c:\\users\\khale\\machine_learning\\sms\\weaviate\\venv\\lib\\site-packages (from langsmith<0.2.0,>=0.1.125->langchain-core<0.4,>=0.1.33->langchain-weaviate) (3.10.7)\n",
      "Requirement already satisfied: requests-toolbelt<2.0.0,>=1.0.0 in c:\\users\\khale\\machine_learning\\sms\\weaviate\\venv\\lib\\site-packages (from langsmith<0.2.0,>=0.1.125->langchain-core<0.4,>=0.1.33->langchain-weaviate) (1.0.0)\n",
      "Requirement already satisfied: annotated-types>=0.6.0 in c:\\users\\khale\\machine_learning\\sms\\weaviate\\venv\\lib\\site-packages (from pydantic<3.0.0,>=2.5.2->langchain-core<0.4,>=0.1.33->langchain-weaviate) (0.7.0)\n",
      "Requirement already satisfied: pydantic-core==2.23.4 in c:\\users\\khale\\machine_learning\\sms\\weaviate\\venv\\lib\\site-packages (from pydantic<3.0.0,>=2.5.2->langchain-core<0.4,>=0.1.33->langchain-weaviate) (2.23.4)\n",
      "Requirement already satisfied: charset-normalizer<4,>=2 in c:\\users\\khale\\machine_learning\\sms\\weaviate\\venv\\lib\\site-packages (from requests<3.0.0,>=2.30.0->weaviate-client<5.0.0,>=4.0.0->langchain-weaviate) (3.4.0)\n",
      "Requirement already satisfied: urllib3<3,>=1.21.1 in c:\\users\\khale\\machine_learning\\sms\\weaviate\\venv\\lib\\site-packages (from requests<3.0.0,>=2.30.0->weaviate-client<5.0.0,>=4.0.0->langchain-weaviate) (2.2.3)\n",
      "Requirement already satisfied: cffi>=1.12 in c:\\users\\khale\\machine_learning\\sms\\weaviate\\venv\\lib\\site-packages (from cryptography->authlib<1.3.2,>=1.2.1->weaviate-client<5.0.0,>=4.0.0->langchain-weaviate) (1.17.1)\n",
      "Requirement already satisfied: pycparser in c:\\users\\khale\\machine_learning\\sms\\weaviate\\venv\\lib\\site-packages (from cffi>=1.12->cryptography->authlib<1.3.2,>=1.2.1->weaviate-client<5.0.0,>=4.0.0->langchain-weaviate) (2.22)\n",
      "Note: you may need to restart the kernel to use updated packages.\n",
      "Requirement already satisfied: fastapi in c:\\users\\khale\\machine_learning\\sms\\weaviate\\venv\\lib\\site-packages (0.115.2)\n",
      "Requirement already satisfied: starlette<0.41.0,>=0.37.2 in c:\\users\\khale\\machine_learning\\sms\\weaviate\\venv\\lib\\site-packages (from fastapi) (0.39.2)\n",
      "Requirement already satisfied: pydantic!=1.8,!=1.8.1,!=2.0.0,!=2.0.1,!=2.1.0,<3.0.0,>=1.7.4 in c:\\users\\khale\\machine_learning\\sms\\weaviate\\venv\\lib\\site-packages (from fastapi) (2.9.2)\n",
      "Requirement already satisfied: typing-extensions>=4.8.0 in c:\\users\\khale\\machine_learning\\sms\\weaviate\\venv\\lib\\site-packages (from fastapi) (4.12.2)\n",
      "Requirement already satisfied: annotated-types>=0.6.0 in c:\\users\\khale\\machine_learning\\sms\\weaviate\\venv\\lib\\site-packages (from pydantic!=1.8,!=1.8.1,!=2.0.0,!=2.0.1,!=2.1.0,<3.0.0,>=1.7.4->fastapi) (0.7.0)\n",
      "Requirement already satisfied: pydantic-core==2.23.4 in c:\\users\\khale\\machine_learning\\sms\\weaviate\\venv\\lib\\site-packages (from pydantic!=1.8,!=1.8.1,!=2.0.0,!=2.0.1,!=2.1.0,<3.0.0,>=1.7.4->fastapi) (2.23.4)\n",
      "Requirement already satisfied: anyio<5,>=3.4.0 in c:\\users\\khale\\machine_learning\\sms\\weaviate\\venv\\lib\\site-packages (from starlette<0.41.0,>=0.37.2->fastapi) (4.6.0)\n",
      "Requirement already satisfied: idna>=2.8 in c:\\users\\khale\\machine_learning\\sms\\weaviate\\venv\\lib\\site-packages (from anyio<5,>=3.4.0->starlette<0.41.0,>=0.37.2->fastapi) (3.10)\n",
      "Requirement already satisfied: sniffio>=1.1 in c:\\users\\khale\\machine_learning\\sms\\weaviate\\venv\\lib\\site-packages (from anyio<5,>=3.4.0->starlette<0.41.0,>=0.37.2->fastapi) (1.3.1)\n",
      "Note: you may need to restart the kernel to use updated packages.\n"
     ]
    }
   ],
   "source": [
    "%pip install -qU langchain-ollama\n",
    "%pip install load_dotenv\n",
    "%pip install langchain-ollama\n",
    "%pip install langchain_community\n",
    "%pip install langchain\n",
    "%pip install weaviate-client\n",
    "%pip install langchain-openai\n",
    "%pip install langchain-weaviate\n",
    "%pip install fastapi\n",
    "\n"
   ]
  },
  {
   "cell_type": "code",
   "execution_count": 130,
   "metadata": {},
   "outputs": [
    {
     "name": "stdout",
     "output_type": "stream",
     "text": [
      "Note: you may need to restart the kernel to use updated packages.\n"
     ]
    }
   ],
   "source": [
    "%pip freeze > requirements.txt"
   ]
  },
  {
   "cell_type": "code",
   "execution_count": 131,
   "metadata": {},
   "outputs": [],
   "source": [
    "from dotenv import load_dotenv\n",
    "import os"
   ]
  },
  {
   "cell_type": "code",
   "execution_count": 291,
   "metadata": {},
   "outputs": [],
   "source": [
    "from langchain_ollama import OllamaEmbeddings\n",
    "import os\n",
    "from langchain.embeddings.openai import OpenAIEmbeddings\n",
    "import weaviate\n",
    "from weaviate.classes.init import Auth\n",
    "\n",
    "embeddings_openai = OpenAIEmbeddings(openai_api_key = os.getenv(\"OPENAI_API_KEY\"))\n",
    "embeddings_llama = OllamaEmbeddings(\n",
    "    model=\"mxbai-embed-large\",\n",
    ")\n",
    "\n",
    "# Best practice: store your credentials in environment variables\n",
    "wcd_url = os.environ[\"WEAVAITE_URL\"]\n",
    "wcd_api_key = os.environ[\"WEAVAITE_API_KEY\"]\n",
    "openai_api_key = os.environ[\"OPENAI_API_KEY\"]\n",
    "\n",
    "client = weaviate.connect_to_weaviate_cloud(\n",
    "    cluster_url=wcd_url,  # Replace with your Weaviate Cloud URL\n",
    "    auth_credentials=Auth.api_key(wcd_api_key),  # Replace with your Weaviate Cloud key\n",
    "    headers={'X-OpenAI-Api-key': openai_api_key}  # Replace with your OpenAI API key\n",
    ")"
   ]
  },
  {
   "cell_type": "code",
   "execution_count": null,
   "metadata": {},
   "outputs": [],
   "source": [
    "# Run Weaviate in embedded mode\n",
    "import weaviate\n",
    "import os\n",
    "\n",
    "client = weaviate.connect_to_embedded(\n",
    "    version=\"1.26.5\",  # e.g. version=\"1.26.5\"\n",
    "    headers={\n",
    "        \"X-OpenAI-Api-Key\": os.getenv(\"openai_api_key\")  # Replace with your API key\n",
    "    },\n",
    ")"
   ]
  },
  {
   "cell_type": "code",
   "execution_count": null,
   "metadata": {},
   "outputs": [],
   "source": [
    "import weaviate\n",
    "from weaviate.embedded import EmbeddedOptions\n",
    "import os\n",
    "\n",
    "client = weaviate.WeaviateClient(\n",
    "    embedded_options=EmbeddedOptions(\n",
    "        additional_env_vars={\n",
    "            \"ENABLE_MODULES\": \"backup-filesystem,text2vec-openai,text2vec-cohere,text2vec-huggingface,ref2vec-centroid,generative-openai,qna-openai\",\n",
    "            \"BACKUP_FILESYSTEM_PATH\": \"/tmp/backups\"\n",
    "        }\n",
    "    )\n",
    "    # Add additional options here (see Python client docs for syntax)\n",
    ")\n",
    "\n",
    "client.connect()  # Call `connect()` to connect to the server when you use `WeaviateClient`\n"
   ]
  },
  {
   "cell_type": "code",
   "execution_count": null,
   "metadata": {},
   "outputs": [
    {
     "name": "stdout",
     "output_type": "stream",
     "text": [
      "_CollectionConfig(name='Question', description=None, generative_config=_GenerativeConfig(generative=<GenerativeSearches.COHERE: 'generative-cohere'>, model={}), inverted_index_config=_InvertedIndexConfig(bm25=_BM25Config(b=0.75, k1=1.2), cleanup_interval_seconds=60, index_null_state=False, index_property_length=False, index_timestamps=False, stopwords=_StopwordsConfig(preset=<StopwordsPreset.EN: 'en'>, additions=None, removals=None)), multi_tenancy_config=_MultiTenancyConfig(enabled=False, auto_tenant_creation=False, auto_tenant_activation=False), properties=[_Property(name='question', description=None, data_type=<DataType.TEXT: 'text'>, index_filterable=True, index_range_filters=False, index_searchable=True, nested_properties=None, tokenization=<Tokenization.WORD: 'word'>, vectorizer_config=_PropertyVectorizerConfig(skip=False, vectorize_property_name=True), vectorizer='text2vec-openai'), _Property(name='answer', description=None, data_type=<DataType.TEXT: 'text'>, index_filterable=True, index_range_filters=False, index_searchable=True, nested_properties=None, tokenization=<Tokenization.WORD: 'word'>, vectorizer_config=_PropertyVectorizerConfig(skip=False, vectorize_property_name=True), vectorizer='text2vec-openai'), _Property(name='category', description=None, data_type=<DataType.TEXT: 'text'>, index_filterable=True, index_range_filters=False, index_searchable=True, nested_properties=None, tokenization=<Tokenization.WORD: 'word'>, vectorizer_config=_PropertyVectorizerConfig(skip=False, vectorize_property_name=True), vectorizer='text2vec-openai')], references=[], replication_config=_ReplicationConfig(factor=1, async_enabled=False), reranker_config=None, sharding_config=_ShardingConfig(virtual_per_physical=128, desired_count=1, actual_count=1, desired_virtual_count=128, actual_virtual_count=128, key='_id', strategy='hash', function='murmur3'), vector_index_config=_VectorIndexConfigHNSW(quantizer=None, cleanup_interval_seconds=300, distance_metric=<VectorDistances.COSINE: 'cosine'>, dynamic_ef_min=100, dynamic_ef_max=500, dynamic_ef_factor=8, ef=-1, ef_construction=128, flat_search_cutoff=40000, max_connections=32, skip=False, vector_cache_max_objects=1000000000000), vector_index_type=<VectorIndexType.HNSW: 'hnsw'>, vectorizer_config=_VectorizerConfig(vectorizer=<Vectorizers.TEXT2VEC_OPENAI: 'text2vec-openai'>, model={'baseURL': 'https://api.openai.com', 'model': 'ada'}, vectorize_collection_name=True), vectorizer=<Vectorizers.TEXT2VEC_OPENAI: 'text2vec-openai'>, vector_config=None)\n"
     ]
    }
   ],
   "source": [
    "import weaviate.classes as wvc\n",
    "\n",
    "try:\n",
    "    questions = client.collections.create(\n",
    "        name=\"Question\",\n",
    "        vectorizer_config=wvc.config.Configure.Vectorizer.text2vec_openai(),    # Set the vectorizer to \"text2vec-openai\" to use the OpenAI API for vector-related operations\n",
    "        generative_config=wvc.config.Configure.Generative.cohere(),             # Set the generative module to \"generative-cohere\" to use the Cohere API for RAG\n",
    "        properties=[\n",
    "            wvc.config.Property(\n",
    "                name=\"question\",\n",
    "                data_type=wvc.config.DataType.TEXT,\n",
    "            ),\n",
    "            wvc.config.Property(\n",
    "                name=\"answer\",\n",
    "                data_type=wvc.config.DataType.TEXT,\n",
    "            ),\n",
    "            wvc.config.Property(\n",
    "                name=\"category\",\n",
    "                data_type=wvc.config.DataType.TEXT,\n",
    "            )\n",
    "        ]\n",
    "    )\n",
    "\n",
    "    print(questions.config.get(simple=False))\n",
    "\n",
    "except weaviate.RequestError as e:\n",
    "    print(e)"
   ]
  },
  {
   "cell_type": "code",
   "execution_count": null,
   "metadata": {},
   "outputs": [],
   "source": [
    "from langchain_weaviate.vectorstores import WeaviateVectorStore"
   ]
  },
  {
   "cell_type": "code",
   "execution_count": null,
   "metadata": {},
   "outputs": [
    {
     "name": "stdout",
     "output_type": "stream",
     "text": [
      "['.env', '.gitignore', 'main.ipynb', 'main.py', 'requirements.txt', 'state_of_the_union.txt', 'Syrian_revolution.pdf', 'True_Multimodal_RAG.ipynb', 'venv', 'weaviate_LangChain.ipynb']\n"
     ]
    }
   ],
   "source": [
    "import os\n",
    "print(os.listdir('.'))"
   ]
  },
  {
   "cell_type": "code",
   "execution_count": null,
   "metadata": {},
   "outputs": [],
   "source": [
    "from langchain_community.document_loaders import TextLoader\n",
    "from langchain_text_splitters import CharacterTextSplitter"
   ]
  },
  {
   "cell_type": "code",
   "execution_count": null,
   "metadata": {},
   "outputs": [
    {
     "name": "stdout",
     "output_type": "stream",
     "text": [
      "Successfully loaded with utf-8 encoding.\n"
     ]
    }
   ],
   "source": [
    "from langchain_community.document_loaders import TextLoader\n",
    "\n",
    "# Try different encodings\n",
    "encodings_to_try = ['utf-8', 'latin-1', 'ascii', 'utf-16']\n",
    "\n",
    "for encoding in encodings_to_try:\n",
    "    try:\n",
    "        raw_documents = TextLoader(\n",
    "            r'C:\\Users\\khale\\machine_learning\\SMS\\weaviate\\state_of_the_union.txt', \n",
    "            encoding=encoding\n",
    "        ).load()\n",
    "        print(f\"Successfully loaded with {encoding} encoding.\")\n",
    "        break\n",
    "    except UnicodeDecodeError:\n",
    "        print(f\"Failed to load with {encoding} encoding.\")\n",
    "    except Exception as e:\n",
    "        print(f\"An unexpected error occurred with {encoding} encoding: {str(e)}\")\n",
    "else:\n",
    "    print(\"Failed to load the file with any of the attempted encodings.\")"
   ]
  },
  {
   "cell_type": "code",
   "execution_count": null,
   "metadata": {},
   "outputs": [],
   "source": [
    "raw_documents = TextLoader(\n",
    "            r'C:\\Users\\khale\\machine_learning\\SMS\\weaviate\\state_of_the_union.txt', \n",
    "            encoding=encoding\n",
    "        ).load()"
   ]
  },
  {
   "cell_type": "code",
   "execution_count": null,
   "metadata": {},
   "outputs": [],
   "source": [
    "\n",
    "text_splitter = CharacterTextSplitter(chunk_size=1000, chunk_overlap=0)\n",
    "documents = text_splitter.split_documents(raw_documents)"
   ]
  },
  {
   "cell_type": "code",
   "execution_count": null,
   "metadata": {},
   "outputs": [
    {
     "name": "stdout",
     "output_type": "stream",
     "text": [
      "[Document(metadata={'source': 'C:\\\\Users\\\\khale\\\\machine_learning\\\\SMS\\\\weaviate\\\\state_of_the_union.txt'}, page_content='Madam Speaker, Madam Vice President, our First Lady and Second Gentleman. Members of Congress and the Cabinet. Justices of the Supreme Court. My fellow Americans.  \\n\\nLast year COVID-19 kept us apart. This year we are finally together again. \\n\\nTonight, we meet as Democrats Republicans and Independents. But most importantly as Americans. \\n\\nWith a duty to one another to the American people to the Constitution. \\n\\nAnd with an unwavering resolve that freedom will always triumph over tyranny. \\n\\nSix days ago, Russia’s Vladimir Putin sought to shake the foundations of the free world thinking he could make it bend to his menacing ways. But he badly miscalculated. \\n\\nHe thought he could roll into Ukraine and the world would roll over. Instead he met a wall of strength he never imagined. \\n\\nHe met the Ukrainian people. \\n\\nFrom President Zelenskyy to every Ukrainian, their fearlessness, their courage, their determination, inspires the world.'), Document(metadata={'source': 'C:\\\\Users\\\\khale\\\\machine_learning\\\\SMS\\\\weaviate\\\\state_of_the_union.txt'}, page_content='Groups of citizens blocking tanks with their bodies. Everyone from students to retirees teachers turned soldiers defending their homeland. \\n\\nIn this struggle as President Zelenskyy said in his speech to the European Parliament “Light will win over darkness.” The Ukrainian Ambassador to the United States is here tonight. \\n\\nLet each of us here tonight in this Chamber send an unmistakable signal to Ukraine and to the world. \\n\\nPlease rise if you are able and show that, Yes, we the United States of America stand with the Ukrainian people. \\n\\nThroughout our history we’ve learned this lesson when dictators do not pay a price for their aggression they cause more chaos.   \\n\\nThey keep moving.   \\n\\nAnd the costs and the threats to America and the world keep rising.   \\n\\nThat’s why the NATO Alliance was created to secure peace and stability in Europe after World War 2. \\n\\nThe United States is a member along with 29 other nations. \\n\\nIt matters. American diplomacy matters. American resolve matters.'), Document(metadata={'source': 'C:\\\\Users\\\\khale\\\\machine_learning\\\\SMS\\\\weaviate\\\\state_of_the_union.txt'}, page_content='Putin’s latest attack on Ukraine was premeditated and unprovoked. \\n\\nHe rejected repeated efforts at diplomacy. \\n\\nHe thought the West and NATO wouldn’t respond. And he thought he could divide us at home. Putin was wrong. We were ready.  Here is what we did.   \\n\\nWe prepared extensively and carefully. \\n\\nWe spent months building a coalition of other freedom-loving nations from Europe and the Americas to Asia and Africa to confront Putin. \\n\\nI spent countless hours unifying our European allies. We shared with the world in advance what we knew Putin was planning and precisely how he would try to falsely justify his aggression.  \\n\\nWe countered Russia’s lies with truth.   \\n\\nAnd now that he has acted the free world is holding him accountable. \\n\\nAlong with twenty-seven members of the European Union including France, Germany, Italy, as well as countries like the United Kingdom, Canada, Japan, Korea, Australia, New Zealand, and many others, even Switzerland.'), Document(metadata={'source': 'C:\\\\Users\\\\khale\\\\machine_learning\\\\SMS\\\\weaviate\\\\state_of_the_union.txt'}, page_content='We are inflicting pain on Russia and supporting the people of Ukraine. Putin is now isolated from the world more than ever. \\n\\nTogether with our allies –we are right now enforcing powerful economic sanctions. \\n\\nWe are cutting off Russia’s largest banks from the international financial system.  \\n\\nPreventing Russia’s central bank from defending the Russian Ruble making Putin’s $630 Billion “war fund” worthless.   \\n\\nWe are choking off Russia’s access to technology that will sap its economic strength and weaken its military for years to come.  \\n\\nTonight I say to the Russian oligarchs and corrupt leaders who have bilked billions of dollars off this violent regime no more. \\n\\nThe U.S. Department of Justice is assembling a dedicated task force to go after the crimes of Russian oligarchs.  \\n\\nWe are joining with our European allies to find and seize your yachts your luxury apartments your private jets. We are coming for your ill-begotten gains.'), Document(metadata={'source': 'C:\\\\Users\\\\khale\\\\machine_learning\\\\SMS\\\\weaviate\\\\state_of_the_union.txt'}, page_content='And tonight I am announcing that we will join our allies in closing off American air space to all Russian flights – further isolating Russia – and adding an additional squeeze –on their economy. The Ruble has lost 30% of its value. \\n\\nThe Russian stock market has lost 40% of its value and trading remains suspended. Russia’s economy is reeling and Putin alone is to blame. \\n\\nTogether with our allies we are providing support to the Ukrainians in their fight for freedom. Military assistance. Economic assistance. Humanitarian assistance. \\n\\nWe are giving more than $1 Billion in direct assistance to Ukraine. \\n\\nAnd we will continue to aid the Ukrainian people as they defend their country and to help ease their suffering.  \\n\\nLet me be clear, our forces are not engaged and will not engage in conflict with Russian forces in Ukraine.  \\n\\nOur forces are not going to Europe to fight in Ukraine, but to defend our NATO Allies – in the event that Putin decides to keep moving west.'), Document(metadata={'source': 'C:\\\\Users\\\\khale\\\\machine_learning\\\\SMS\\\\weaviate\\\\state_of_the_union.txt'}, page_content='For that purpose we’ve mobilized American ground forces, air squadrons, and ship deployments to protect NATO countries including Poland, Romania, Latvia, Lithuania, and Estonia. \\n\\nAs I have made crystal clear the United States and our Allies will defend every inch of territory of NATO countries with the full force of our collective power.  \\n\\nAnd we remain clear-eyed. The Ukrainians are fighting back with pure courage. But the next few days weeks, months, will be hard on them.  \\n\\nPutin has unleashed violence and chaos.  But while he may make gains on the battlefield – he will pay a continuing high price over the long run. \\n\\nAnd a proud Ukrainian people, who have known 30 years  of independence, have repeatedly shown that they will not tolerate anyone who tries to take their country backwards.  \\n\\nTo all Americans, I will be honest with you, as I’ve always promised. A Russian dictator, invading a foreign country, has costs around the world.'), Document(metadata={'source': 'C:\\\\Users\\\\khale\\\\machine_learning\\\\SMS\\\\weaviate\\\\state_of_the_union.txt'}, page_content='And I’m taking robust action to make sure the pain of our sanctions  is targeted at Russia’s economy. And I will use every tool at our disposal to protect American businesses and consumers. \\n\\nTonight, I can announce that the United States has worked with 30 other countries to release 60 Million barrels of oil from reserves around the world.  \\n\\nAmerica will lead that effort, releasing 30 Million barrels from our own Strategic Petroleum Reserve. And we stand ready to do more if necessary, unified with our allies.  \\n\\nThese steps will help blunt gas prices here at home. And I know the news about what’s happening can seem alarming. \\n\\nBut I want you to know that we are going to be okay. \\n\\nWhen the history of this era is written Putin’s war on Ukraine will have left Russia weaker and the rest of the world stronger. \\n\\nWhile it shouldn’t have taken something so terrible for people around the world to see what’s at stake now everyone sees it clearly.'), Document(metadata={'source': 'C:\\\\Users\\\\khale\\\\machine_learning\\\\SMS\\\\weaviate\\\\state_of_the_union.txt'}, page_content='We see the unity among leaders of nations and a more unified Europe a more unified West. And we see unity among the people who are gathering in cities in large crowds around the world even in Russia to demonstrate their support for Ukraine.  \\n\\nIn the battle between democracy and autocracy, democracies are rising to the moment, and the world is clearly choosing the side of peace and security. \\n\\nThis is a real test. It’s going to take time. So let us continue to draw inspiration from the iron will of the Ukrainian people. \\n\\nTo our fellow Ukrainian Americans who forge a deep bond that connects our two nations we stand with you. \\n\\nPutin may circle Kyiv with tanks, but he will never gain the hearts and souls of the Ukrainian people. \\n\\nHe will never extinguish their love of freedom. He will never weaken the resolve of the free world. \\n\\nWe meet tonight in an America that has lived through two of the hardest years this nation has ever faced. \\n\\nThe pandemic has been punishing.'), Document(metadata={'source': 'C:\\\\Users\\\\khale\\\\machine_learning\\\\SMS\\\\weaviate\\\\state_of_the_union.txt'}, page_content='And so many families are living paycheck to paycheck, struggling to keep up with the rising cost of food, gas, housing, and so much more. \\n\\nI understand. \\n\\nI remember when my Dad had to leave our home in Scranton, Pennsylvania to find work. I grew up in a family where if the price of food went up, you felt it. \\n\\nThat’s why one of the first things I did as President was fight to pass the American Rescue Plan.  \\n\\nBecause people were hurting. We needed to act, and we did. \\n\\nFew pieces of legislation have done more in a critical moment in our history to lift us out of crisis. \\n\\nIt fueled our efforts to vaccinate the nation and combat COVID-19. It delivered immediate economic relief for tens of millions of Americans.  \\n\\nHelped put food on their table, keep a roof over their heads, and cut the cost of health insurance. \\n\\nAnd as my Dad used to say, it gave people a little breathing room.'), Document(metadata={'source': 'C:\\\\Users\\\\khale\\\\machine_learning\\\\SMS\\\\weaviate\\\\state_of_the_union.txt'}, page_content='And unlike the $2 Trillion tax cut passed in the previous administration that benefitted the top 1% of Americans, the American Rescue Plan helped working people—and left no one behind. \\n\\nAnd it worked. It created jobs. Lots of jobs. \\n\\nIn fact—our economy created over 6.5 Million new jobs just last year, more jobs created in one year  \\nthan ever before in the history of America. \\n\\nOur economy grew at a rate of 5.7% last year, the strongest growth in nearly 40 years, the first step in bringing fundamental change to an economy that hasn’t worked for the working people of this nation for too long.  \\n\\nFor the past 40 years we were told that if we gave tax breaks to those at the very top, the benefits would trickle down to everyone else. \\n\\nBut that trickle-down theory led to weaker economic growth, lower wages, bigger deficits, and the widest gap between those at the top and everyone else in nearly a century.'), Document(metadata={'source': 'C:\\\\Users\\\\khale\\\\machine_learning\\\\SMS\\\\weaviate\\\\state_of_the_union.txt'}, page_content='Vice President Harris and I ran for office with a new economic vision for America. \\n\\nInvest in America. Educate Americans. Grow the workforce. Build the economy from the bottom up  \\nand the middle out, not from the top down.  \\n\\nBecause we know that when the middle class grows, the poor have a ladder up and the wealthy do very well. \\n\\nAmerica used to have the best roads, bridges, and airports on Earth. \\n\\nNow our infrastructure is ranked 13th in the world. \\n\\nWe won’t be able to compete for the jobs of the 21st Century if we don’t fix that. \\n\\nThat’s why it was so important to pass the Bipartisan Infrastructure Law—the most sweeping investment to rebuild America in history. \\n\\nThis was a bipartisan effort, and I want to thank the members of both parties who worked to make it happen. \\n\\nWe’re done talking about infrastructure weeks. \\n\\nWe’re going to have an infrastructure decade.'), Document(metadata={'source': 'C:\\\\Users\\\\khale\\\\machine_learning\\\\SMS\\\\weaviate\\\\state_of_the_union.txt'}, page_content='It is going to transform America and put us on a path to win the economic competition of the 21st Century that we face with the rest of the world—particularly with China.  \\n\\nAs I’ve told Xi Jinping, it is never a good bet to bet against the American people. \\n\\nWe’ll create good jobs for millions of Americans, modernizing roads, airports, ports, and waterways all across America. \\n\\nAnd we’ll do it all to withstand the devastating effects of the climate crisis and promote environmental justice. \\n\\nWe’ll build a national network of 500,000 electric vehicle charging stations, begin to replace poisonous lead pipes—so every child—and every American—has clean water to drink at home and at school, provide affordable high-speed internet for every American—urban, suburban, rural, and tribal communities. \\n\\n4,000 projects have already been announced. \\n\\nAnd tonight, I’m announcing that this year we will start fixing over 65,000 miles of highway and 1,500 bridges in disrepair.'), Document(metadata={'source': 'C:\\\\Users\\\\khale\\\\machine_learning\\\\SMS\\\\weaviate\\\\state_of_the_union.txt'}, page_content='When we use taxpayer dollars to rebuild America – we are going to Buy American: buy American products to support American jobs. \\n\\nThe federal government spends about $600 Billion a year to keep the country safe and secure. \\n\\nThere’s been a law on the books for almost a century \\nto make sure taxpayers’ dollars support American jobs and businesses. \\n\\nEvery Administration says they’ll do it, but we are actually doing it. \\n\\nWe will buy American to make sure everything from the deck of an aircraft carrier to the steel on highway guardrails are made in America. \\n\\nBut to compete for the best jobs of the future, we also need to level the playing field with China and other competitors. \\n\\nThat’s why it is so important to pass the Bipartisan Innovation Act sitting in Congress that will make record investments in emerging technologies and American manufacturing. \\n\\nLet me give you one example of why it’s so important to pass it.'), Document(metadata={'source': 'C:\\\\Users\\\\khale\\\\machine_learning\\\\SMS\\\\weaviate\\\\state_of_the_union.txt'}, page_content='If you travel 20 miles east of Columbus, Ohio, you’ll find 1,000 empty acres of land. \\n\\nIt won’t look like much, but if you stop and look closely, you’ll see a “Field of dreams,” the ground on which America’s future will be built. \\n\\nThis is where Intel, the American company that helped build Silicon Valley, is going to build its $20 billion semiconductor “mega site”. \\n\\nUp to eight state-of-the-art factories in one place. 10,000 new good-paying jobs. \\n\\nSome of the most sophisticated manufacturing in the world to make computer chips the size of a fingertip that power the world and our everyday lives. \\n\\nSmartphones. The Internet. Technology we have yet to invent. \\n\\nBut that’s just the beginning. \\n\\nIntel’s CEO, Pat Gelsinger, who is here tonight, told me they are ready to increase their investment from  \\n$20 billion to $100 billion. \\n\\nThat would be one of the biggest investments in manufacturing in American history. \\n\\nAnd all they’re waiting for is for you to pass this bill.'), Document(metadata={'source': 'C:\\\\Users\\\\khale\\\\machine_learning\\\\SMS\\\\weaviate\\\\state_of_the_union.txt'}, page_content='So let’s not wait any longer. Send it to my desk. I’ll sign it.  \\n\\nAnd we will really take off. \\n\\nAnd Intel is not alone. \\n\\nThere’s something happening in America. \\n\\nJust look around and you’ll see an amazing story. \\n\\nThe rebirth of the pride that comes from stamping products “Made In America.” The revitalization of American manufacturing.   \\n\\nCompanies are choosing to build new factories here, when just a few years ago, they would have built them overseas. \\n\\nThat’s what is happening. Ford is investing $11 billion to build electric vehicles, creating 11,000 jobs across the country. \\n\\nGM is making the largest investment in its history—$7 billion to build electric vehicles, creating 4,000 jobs in Michigan. \\n\\nAll told, we created 369,000 new manufacturing jobs in America just last year. \\n\\nPowered by people I’ve met like JoJo Burgess, from generations of union steelworkers from Pittsburgh, who’s here with us tonight.'), Document(metadata={'source': 'C:\\\\Users\\\\khale\\\\machine_learning\\\\SMS\\\\weaviate\\\\state_of_the_union.txt'}, page_content='As Ohio Senator Sherrod Brown says, “It’s time to bury the label “Rust Belt.” \\n\\nIt’s time. \\n\\nBut with all the bright spots in our economy, record job growth and higher wages, too many families are struggling to keep up with the bills.  \\n\\nInflation is robbing them of the gains they might otherwise feel. \\n\\nI get it. That’s why my top priority is getting prices under control. \\n\\nLook, our economy roared back faster than most predicted, but the pandemic meant that businesses had a hard time hiring enough workers to keep up production in their factories. \\n\\nThe pandemic also disrupted global supply chains. \\n\\nWhen factories close, it takes longer to make goods and get them from the warehouse to the store, and prices go up. \\n\\nLook at cars. \\n\\nLast year, there weren’t enough semiconductors to make all the cars that people wanted to buy. \\n\\nAnd guess what, prices of automobiles went up. \\n\\nSo—we have a choice. \\n\\nOne way to fight inflation is to drive down wages and make Americans poorer.'), Document(metadata={'source': 'C:\\\\Users\\\\khale\\\\machine_learning\\\\SMS\\\\weaviate\\\\state_of_the_union.txt'}, page_content='I have a better plan to fight inflation. \\n\\nLower your costs, not your wages. \\n\\nMake more cars and semiconductors in America. \\n\\nMore infrastructure and innovation in America. \\n\\nMore goods moving faster and cheaper in America. \\n\\nMore jobs where you can earn a good living in America. \\n\\nAnd instead of relying on foreign supply chains, let’s make it in America. \\n\\nEconomists call it “increasing the productive capacity of our economy.” \\n\\nI call it building a better America. \\n\\nMy plan to fight inflation will lower your costs and lower the deficit. \\n\\n17 Nobel laureates in economics say my plan will ease long-term inflationary pressures. Top business leaders and most Americans support my plan. And here’s the plan: \\n\\nFirst – cut the cost of prescription drugs. Just look at insulin. One in ten Americans has diabetes. In Virginia, I met a 13-year-old boy named Joshua Davis.'), Document(metadata={'source': 'C:\\\\Users\\\\khale\\\\machine_learning\\\\SMS\\\\weaviate\\\\state_of_the_union.txt'}, page_content='He and his Dad both have Type 1 diabetes, which means they need insulin every day. Insulin costs about $10 a vial to make.  \\n\\nBut drug companies charge families like Joshua and his Dad up to 30 times more. I spoke with Joshua’s mom. \\n\\nImagine what it’s like to look at your child who needs insulin and have no idea how you’re going to pay for it.  \\n\\nWhat it does to your dignity, your ability to look your child in the eye, to be the parent you expect to be. \\n\\nJoshua is here with us tonight. Yesterday was his birthday. Happy birthday, buddy.  \\n\\nFor Joshua, and for the 200,000 other young people with Type 1 diabetes, let’s cap the cost of insulin at $35 a month so everyone can afford it.  \\n\\nDrug companies will still do very well. And while we’re at it let Medicare negotiate lower prices for prescription drugs, like the VA already does.'), Document(metadata={'source': 'C:\\\\Users\\\\khale\\\\machine_learning\\\\SMS\\\\weaviate\\\\state_of_the_union.txt'}, page_content='Look, the American Rescue Plan is helping millions of families on Affordable Care Act plans save $2,400 a year on their health care premiums. Let’s close the coverage gap and make those savings permanent. \\n\\nSecond – cut energy costs for families an average of $500 a year by combatting climate change.  \\n\\nLet’s provide investments and tax credits to weatherize your homes and businesses to be energy efficient and you get a tax credit; double America’s clean energy production in solar, wind, and so much more;  lower the price of electric vehicles, saving you another $80 a month because you’ll never have to pay at the gas pump again. \\n\\nThird – cut the cost of child care. Many families pay up to $14,000 a year for child care per child.  \\n\\nMiddle-class and working families shouldn’t have to pay more than 7% of their income for care of young children.'), Document(metadata={'source': 'C:\\\\Users\\\\khale\\\\machine_learning\\\\SMS\\\\weaviate\\\\state_of_the_union.txt'}, page_content='My plan will cut the cost in half for most families and help parents, including millions of women, who left the workforce during the pandemic because they couldn’t afford child care, to be able to get back to work. \\n\\nMy plan doesn’t stop there. It also includes home and long-term care. More affordable housing. And Pre-K for every 3- and 4-year-old.  \\n\\nAll of these will lower costs. \\n\\nAnd under my plan, nobody earning less than $400,000 a year will pay an additional penny in new taxes. Nobody.  \\n\\nThe one thing all Americans agree on is that the tax system is not fair. We have to fix it.  \\n\\nI’m not looking to punish anyone. But let’s make sure corporations and the wealthiest Americans start paying their fair share. \\n\\nJust last year, 55 Fortune 500 corporations earned $40 billion in profits and paid zero dollars in federal income tax.  \\n\\nThat’s simply not fair. That’s why I’ve proposed a 15% minimum tax rate for corporations.'), Document(metadata={'source': 'C:\\\\Users\\\\khale\\\\machine_learning\\\\SMS\\\\weaviate\\\\state_of_the_union.txt'}, page_content='We got more than 130 countries to agree on a global minimum tax rate so companies can’t get out of paying their taxes at home by shipping jobs and factories overseas. \\n\\nThat’s why I’ve proposed closing loopholes so the very wealthy don’t pay a lower tax rate than a teacher or a firefighter.  \\n\\nSo that’s my plan. It will grow the economy and lower costs for families. \\n\\nSo what are we waiting for? Let’s get this done. And while you’re at it, confirm my nominees to the Federal Reserve, which plays a critical role in fighting inflation.  \\n\\nMy plan will not only lower costs to give families a fair shot, it will lower the deficit. \\n\\nThe previous Administration not only ballooned the deficit with tax cuts for the very wealthy and corporations, it undermined the watchdogs whose job was to keep pandemic relief funds from being wasted. \\n\\nBut in my administration, the watchdogs have been welcomed back.'), Document(metadata={'source': 'C:\\\\Users\\\\khale\\\\machine_learning\\\\SMS\\\\weaviate\\\\state_of_the_union.txt'}, page_content='We’re going after the criminals who stole billions in relief money meant for small businesses and millions of Americans.  \\n\\nAnd tonight, I’m announcing that the Justice Department will name a chief prosecutor for pandemic fraud. \\n\\nBy the end of this year, the deficit will be down to less than half what it was before I took office.  \\n\\nThe only president ever to cut the deficit by more than one trillion dollars in a single year. \\n\\nLowering your costs also means demanding more competition. \\n\\nI’m a capitalist, but capitalism without competition isn’t capitalism. \\n\\nIt’s exploitation—and it drives up prices. \\n\\nWhen corporations don’t have to compete, their profits go up, your prices go up, and small businesses and family farmers and ranchers go under. \\n\\nWe see it happening with ocean carriers moving goods in and out of America. \\n\\nDuring the pandemic, these foreign-owned companies raised prices by as much as 1,000% and made record profits.'), Document(metadata={'source': 'C:\\\\Users\\\\khale\\\\machine_learning\\\\SMS\\\\weaviate\\\\state_of_the_union.txt'}, page_content='Tonight, I’m announcing a crackdown on these companies overcharging American businesses and consumers. \\n\\nAnd as Wall Street firms take over more nursing homes, quality in those homes has gone down and costs have gone up.  \\n\\nThat ends on my watch. \\n\\nMedicare is going to set higher standards for nursing homes and make sure your loved ones get the care they deserve and expect. \\n\\nWe’ll also cut costs and keep the economy going strong by giving workers a fair shot, provide more training and apprenticeships, hire them based on their skills not degrees. \\n\\nLet’s pass the Paycheck Fairness Act and paid leave.  \\n\\nRaise the minimum wage to $15 an hour and extend the Child Tax Credit, so no one has to raise a family in poverty. \\n\\nLet’s increase Pell Grants and increase our historic support of HBCUs, and invest in what Jill—our First Lady who teaches full-time—calls America’s best-kept secret: community colleges.'), Document(metadata={'source': 'C:\\\\Users\\\\khale\\\\machine_learning\\\\SMS\\\\weaviate\\\\state_of_the_union.txt'}, page_content='And let’s pass the PRO Act when a majority of workers want to form a union—they shouldn’t be stopped.  \\n\\nWhen we invest in our workers, when we build the economy from the bottom up and the middle out together, we can do something we haven’t done in a long time: build a better America. \\n\\nFor more than two years, COVID-19 has impacted every decision in our lives and the life of the nation. \\n\\nAnd I know you’re tired, frustrated, and exhausted. \\n\\nBut I also know this. \\n\\nBecause of the progress we’ve made, because of your resilience and the tools we have, tonight I can say  \\nwe are moving forward safely, back to more normal routines.  \\n\\nWe’ve reached a new moment in the fight against COVID-19, with severe cases down to a level not seen since last July.  \\n\\nJust a few days ago, the Centers for Disease Control and Prevention—the CDC—issued new mask guidelines. \\n\\nUnder these new guidelines, most Americans in most of the country can now be mask free.'), Document(metadata={'source': 'C:\\\\Users\\\\khale\\\\machine_learning\\\\SMS\\\\weaviate\\\\state_of_the_union.txt'}, page_content='And based on the projections, more of the country will reach that point across the next couple of weeks. \\n\\nThanks to the progress we have made this past year, COVID-19 need no longer control our lives.  \\n\\nI know some are talking about “living with COVID-19”. Tonight – I say that we will never just accept living with COVID-19. \\n\\nWe will continue to combat the virus as we do other diseases. And because this is a virus that mutates and spreads, we will stay on guard. \\n\\nHere are four common sense steps as we move forward safely.  \\n\\nFirst, stay protected with vaccines and treatments. We know how incredibly effective vaccines are. If you’re vaccinated and boosted you have the highest degree of protection. \\n\\nWe will never give up on vaccinating more Americans. Now, I know parents with kids under 5 are eager to see a vaccine authorized for their children. \\n\\nThe scientists are working hard to get that done and we’ll be ready with plenty of vaccines when they do.'), Document(metadata={'source': 'C:\\\\Users\\\\khale\\\\machine_learning\\\\SMS\\\\weaviate\\\\state_of_the_union.txt'}, page_content='We’re also ready with anti-viral treatments. If you get COVID-19, the Pfizer pill reduces your chances of ending up in the hospital by 90%.  \\n\\nWe’ve ordered more of these pills than anyone in the world. And Pfizer is working overtime to get us 1 Million pills this month and more than double that next month.  \\n\\nAnd we’re launching the “Test to Treat” initiative so people can get tested at a pharmacy, and if they’re positive, receive antiviral pills on the spot at no cost.  \\n\\nIf you’re immunocompromised or have some other vulnerability, we have treatments and free high-quality masks. \\n\\nWe’re leaving no one behind or ignoring anyone’s needs as we move forward. \\n\\nAnd on testing, we have made hundreds of millions of tests available for you to order for free.   \\n\\nEven if you already ordered free tests tonight, I am announcing that you can order more from covidtests.gov starting next week.'), Document(metadata={'source': 'C:\\\\Users\\\\khale\\\\machine_learning\\\\SMS\\\\weaviate\\\\state_of_the_union.txt'}, page_content='Second – we must prepare for new variants. Over the past year, we’ve gotten much better at detecting new variants. \\n\\nIf necessary, we’ll be able to deploy new vaccines within 100 days instead of many more months or years.  \\n\\nAnd, if Congress provides the funds we need, we’ll have new stockpiles of tests, masks, and pills ready if needed. \\n\\nI cannot promise a new variant won’t come. But I can promise you we’ll do everything within our power to be ready if it does.  \\n\\nThird – we can end the shutdown of schools and businesses. We have the tools we need. \\n\\nIt’s time for Americans to get back to work and fill our great downtowns again.  People working from home can feel safe to begin to return to the office.   \\n\\nWe’re doing that here in the federal government. The vast majority of federal workers will once again work in person. \\n\\nOur schools are open. Let’s keep it that way. Our kids need to be in school.'), Document(metadata={'source': 'C:\\\\Users\\\\khale\\\\machine_learning\\\\SMS\\\\weaviate\\\\state_of_the_union.txt'}, page_content='And with 75% of adult Americans fully vaccinated and hospitalizations down by 77%, most Americans can remove their masks, return to work, stay in the classroom, and move forward safely. \\n\\nWe achieved this because we provided free vaccines, treatments, tests, and masks. \\n\\nOf course, continuing this costs money. \\n\\nI will soon send Congress a request. \\n\\nThe vast majority of Americans have used these tools and may want to again, so I expect Congress to pass it quickly.   \\n\\nFourth, we will continue vaccinating the world.     \\n\\nWe’ve sent 475 Million vaccine doses to 112 countries, more than any other nation. \\n\\nAnd we won’t stop. \\n\\nWe have lost so much to COVID-19. Time with one another. And worst of all, so much loss of life. \\n\\nLet’s use this moment to reset. Let’s stop looking at COVID-19 as a partisan dividing line and see it for what it is: A God-awful disease.  \\n\\nLet’s stop seeing each other as enemies, and start seeing each other for who we really are: Fellow Americans.'), Document(metadata={'source': 'C:\\\\Users\\\\khale\\\\machine_learning\\\\SMS\\\\weaviate\\\\state_of_the_union.txt'}, page_content='We can’t change how divided we’ve been. But we can change how we move forward—on COVID-19 and other issues we must face together. \\n\\nI recently visited the New York City Police Department days after the funerals of Officer Wilbert Mora and his partner, Officer Jason Rivera. \\n\\nThey were responding to a 9-1-1 call when a man shot and killed them with a stolen gun. \\n\\nOfficer Mora was 27 years old. \\n\\nOfficer Rivera was 22. \\n\\nBoth Dominican Americans who’d grown up on the same streets they later chose to patrol as police officers. \\n\\nI spoke with their families and told them that we are forever in debt for their sacrifice, and we will carry on their mission to restore the trust and safety every community deserves. \\n\\nI’ve worked on these issues a long time. \\n\\nI know what works: Investing in crime preventionand community police officers who’ll walk the beat, who’ll know the neighborhood, and who can restore trust and safety.'), Document(metadata={'source': 'C:\\\\Users\\\\khale\\\\machine_learning\\\\SMS\\\\weaviate\\\\state_of_the_union.txt'}, page_content='So let’s not abandon our streets. Or choose between safety and equal justice. \\n\\nLet’s come together to protect our communities, restore trust, and hold law enforcement accountable. \\n\\nThat’s why the Justice Department required body cameras, banned chokeholds, and restricted no-knock warrants for its officers. \\n\\nThat’s why the American Rescue Plan provided $350 Billion that cities, states, and counties can use to hire more police and invest in proven strategies like community violence interruption—trusted messengers breaking the cycle of violence and trauma and giving young people hope.  \\n\\nWe should all agree: The answer is not to Defund the police. The answer is to FUND the police with the resources and training they need to protect our communities. \\n\\nI ask Democrats and Republicans alike: Pass my budget and keep our neighborhoods safe.'), Document(metadata={'source': 'C:\\\\Users\\\\khale\\\\machine_learning\\\\SMS\\\\weaviate\\\\state_of_the_union.txt'}, page_content='And I will keep doing everything in my power to crack down on gun trafficking and ghost guns you can buy online and make at home—they have no serial numbers and can’t be traced. \\n\\nAnd I ask Congress to pass proven measures to reduce gun violence. Pass universal background checks. Why should anyone on a terrorist list be able to purchase a weapon? \\n\\nBan assault weapons and high-capacity magazines. \\n\\nRepeal the liability shield that makes gun manufacturers the only industry in America that can’t be sued. \\n\\nThese laws don’t infringe on the Second Amendment. They save lives. \\n\\nThe most fundamental right in America is the right to vote – and to have it counted. And it’s under assault. \\n\\nIn state after state, new laws have been passed, not only to suppress the vote, but to subvert entire elections. \\n\\nWe cannot let this happen.'), Document(metadata={'source': 'C:\\\\Users\\\\khale\\\\machine_learning\\\\SMS\\\\weaviate\\\\state_of_the_union.txt'}, page_content='Tonight. I call on the Senate to: Pass the Freedom to Vote Act. Pass the John Lewis Voting Rights Act. And while you’re at it, pass the Disclose Act so Americans can know who is funding our elections. \\n\\nTonight, I’d like to honor someone who has dedicated his life to serve this country: Justice Stephen Breyer—an Army veteran, Constitutional scholar, and retiring Justice of the United States Supreme Court. Justice Breyer, thank you for your service. \\n\\nOne of the most serious constitutional responsibilities a President has is nominating someone to serve on the United States Supreme Court. \\n\\nAnd I did that 4 days ago, when I nominated Circuit Court of Appeals Judge Ketanji Brown Jackson. One of our nation’s top legal minds, who will continue Justice Breyer’s legacy of excellence.'), Document(metadata={'source': 'C:\\\\Users\\\\khale\\\\machine_learning\\\\SMS\\\\weaviate\\\\state_of_the_union.txt'}, page_content='A former top litigator in private practice. A former federal public defender. And from a family of public school educators and police officers. A consensus builder. Since she’s been nominated, she’s received a broad range of support—from the Fraternal Order of Police to former judges appointed by Democrats and Republicans. \\n\\nAnd if we are to advance liberty and justice, we need to secure the Border and fix the immigration system. \\n\\nWe can do both. At our border, we’ve installed new technology like cutting-edge scanners to better detect drug smuggling.  \\n\\nWe’ve set up joint patrols with Mexico and Guatemala to catch more human traffickers.  \\n\\nWe’re putting in place dedicated immigration judges so families fleeing persecution and violence can have their cases heard faster. \\n\\nWe’re securing commitments and supporting partners in South and Central America to host more refugees and secure their own borders.'), Document(metadata={'source': 'C:\\\\Users\\\\khale\\\\machine_learning\\\\SMS\\\\weaviate\\\\state_of_the_union.txt'}, page_content='We can do all this while keeping lit the torch of liberty that has led generations of immigrants to this land—my forefathers and so many of yours. \\n\\nProvide a pathway to citizenship for Dreamers, those on temporary status, farm workers, and essential workers. \\n\\nRevise our laws so businesses have the workers they need and families don’t wait decades to reunite. \\n\\nIt’s not only the right thing to do—it’s the economically smart thing to do. \\n\\nThat’s why immigration reform is supported by everyone from labor unions to religious leaders to the U.S. Chamber of Commerce. \\n\\nLet’s get it done once and for all. \\n\\nAdvancing liberty and justice also requires protecting the rights of women. \\n\\nThe constitutional right affirmed in Roe v. Wade—standing precedent for half a century—is under attack as never before. \\n\\nIf we want to go forward—not backward—we must protect access to health care. Preserve a woman’s right to choose. And let’s continue to advance maternal health care in America.'), Document(metadata={'source': 'C:\\\\Users\\\\khale\\\\machine_learning\\\\SMS\\\\weaviate\\\\state_of_the_union.txt'}, page_content='And for our LGBTQ+ Americans, let’s finally get the bipartisan Equality Act to my desk. The onslaught of state laws targeting transgender Americans and their families is wrong. \\n\\nAs I said last year, especially to our younger transgender Americans, I will always have your back as your President, so you can be yourself and reach your God-given potential. \\n\\nWhile it often appears that we never agree, that isn’t true. I signed 80 bipartisan bills into law last year. From preventing government shutdowns to protecting Asian-Americans from still-too-common hate crimes to reforming military justice. \\n\\nAnd soon, we’ll strengthen the Violence Against Women Act that I first wrote three decades ago. It is important for us to show the nation that we can come together and do big things. \\n\\nSo tonight I’m offering a Unity Agenda for the Nation. Four big things we can do together.  \\n\\nFirst, beat the opioid epidemic.'), Document(metadata={'source': 'C:\\\\Users\\\\khale\\\\machine_learning\\\\SMS\\\\weaviate\\\\state_of_the_union.txt'}, page_content='There is so much we can do. Increase funding for prevention, treatment, harm reduction, and recovery.  \\n\\nGet rid of outdated rules that stop doctors from prescribing treatments. And stop the flow of illicit drugs by working with state and local law enforcement to go after traffickers. \\n\\nIf you’re suffering from addiction, know you are not alone. I believe in recovery, and I celebrate the 23 million Americans in recovery. \\n\\nSecond, let’s take on mental health. Especially among our children, whose lives and education have been turned upside down.  \\n\\nThe American Rescue Plan gave schools money to hire teachers and help students make up for lost learning.  \\n\\nI urge every parent to make sure your school does just that. And we can all play a part—sign up to be a tutor or a mentor. \\n\\nChildren were also struggling before the pandemic. Bullying, violence, trauma, and the harms of social media.'), Document(metadata={'source': 'C:\\\\Users\\\\khale\\\\machine_learning\\\\SMS\\\\weaviate\\\\state_of_the_union.txt'}, page_content='As Frances Haugen, who is here with us tonight, has shown, we must hold social media platforms accountable for the national experiment they’re conducting on our children for profit. \\n\\nIt’s time to strengthen privacy protections, ban targeted advertising to children, demand tech companies stop collecting personal data on our children. \\n\\nAnd let’s get all Americans the mental health services they need. More people they can turn to for help, and full parity between physical and mental health care. \\n\\nThird, support our veterans. \\n\\nVeterans are the best of us. \\n\\nI’ve always believed that we have a sacred obligation to equip all those we send to war and care for them and their families when they come home. \\n\\nMy administration is providing assistance with job training and housing, and now helping lower-income veterans get VA care debt-free.  \\n\\nOur troops in Iraq and Afghanistan faced many dangers.'), Document(metadata={'source': 'C:\\\\Users\\\\khale\\\\machine_learning\\\\SMS\\\\weaviate\\\\state_of_the_union.txt'}, page_content='One was stationed at bases and breathing in toxic smoke from “burn pits” that incinerated wastes of war—medical and hazard material, jet fuel, and more. \\n\\nWhen they came home, many of the world’s fittest and best trained warriors were never the same. \\n\\nHeadaches. Numbness. Dizziness. \\n\\nA cancer that would put them in a flag-draped coffin. \\n\\nI know. \\n\\nOne of those soldiers was my son Major Beau Biden. \\n\\nWe don’t know for sure if a burn pit was the cause of his brain cancer, or the diseases of so many of our troops. \\n\\nBut I’m committed to finding out everything we can. \\n\\nCommitted to military families like Danielle Robinson from Ohio. \\n\\nThe widow of Sergeant First Class Heath Robinson.  \\n\\nHe was born a soldier. Army National Guard. Combat medic in Kosovo and Iraq. \\n\\nStationed near Baghdad, just yards from burn pits the size of football fields. \\n\\nHeath’s widow Danielle is here with us tonight. They loved going to Ohio State football games. He loved building Legos with their daughter.'), Document(metadata={'source': 'C:\\\\Users\\\\khale\\\\machine_learning\\\\SMS\\\\weaviate\\\\state_of_the_union.txt'}, page_content='But cancer from prolonged exposure to burn pits ravaged Heath’s lungs and body. \\n\\nDanielle says Heath was a fighter to the very end. \\n\\nHe didn’t know how to stop fighting, and neither did she. \\n\\nThrough her pain she found purpose to demand we do better. \\n\\nTonight, Danielle—we are. \\n\\nThe VA is pioneering new ways of linking toxic exposures to diseases, already helping more veterans get benefits. \\n\\nAnd tonight, I’m announcing we’re expanding eligibility to veterans suffering from nine respiratory cancers. \\n\\nI’m also calling on Congress: pass a law to make sure veterans devastated by toxic exposures in Iraq and Afghanistan finally get the benefits and comprehensive health care they deserve. \\n\\nAnd fourth, let’s end cancer as we know it. \\n\\nThis is personal to me and Jill, to Kamala, and to so many of you. \\n\\nCancer is the #2 cause of death in America–second only to heart disease.'), Document(metadata={'source': 'C:\\\\Users\\\\khale\\\\machine_learning\\\\SMS\\\\weaviate\\\\state_of_the_union.txt'}, page_content='Last month, I announced our plan to supercharge  \\nthe Cancer Moonshot that President Obama asked me to lead six years ago. \\n\\nOur goal is to cut the cancer death rate by at least 50% over the next 25 years, turn more cancers from death sentences into treatable diseases.  \\n\\nMore support for patients and families. \\n\\nTo get there, I call on Congress to fund ARPA-H, the Advanced Research Projects Agency for Health. \\n\\nIt’s based on DARPA—the Defense Department project that led to the Internet, GPS, and so much more.  \\n\\nARPA-H will have a singular purpose—to drive breakthroughs in cancer, Alzheimer’s, diabetes, and more. \\n\\nA unity agenda for the nation. \\n\\nWe can do this. \\n\\nMy fellow Americans—tonight , we have gathered in a sacred space—the citadel of our democracy. \\n\\nIn this Capitol, generation after generation, Americans have debated great questions amid great strife, and have done great things. \\n\\nWe have fought for freedom, expanded liberty, defeated totalitarianism and terror.'), Document(metadata={'source': 'C:\\\\Users\\\\khale\\\\machine_learning\\\\SMS\\\\weaviate\\\\state_of_the_union.txt'}, page_content='And built the strongest, freest, and most prosperous nation the world has ever known. \\n\\nNow is the hour. \\n\\nOur moment of responsibility. \\n\\nOur test of resolve and conscience, of history itself. \\n\\nIt is in this moment that our character is formed. Our purpose is found. Our future is forged. \\n\\nWell I know this nation.  \\n\\nWe will meet the test. \\n\\nTo protect freedom and liberty, to expand fairness and opportunity. \\n\\nWe will save democracy. \\n\\nAs hard as these times have been, I am more optimistic about America today than I have been my whole life. \\n\\nBecause I see the future that is within our grasp. \\n\\nBecause I know there is simply nothing beyond our capacity. \\n\\nWe are the only nation on Earth that has always turned every crisis we have faced into an opportunity. \\n\\nThe only nation that can be defined by a single word: possibilities. \\n\\nSo on this night, in our 245th year as a nation, I have come to report on the State of the Union.'), Document(metadata={'source': 'C:\\\\Users\\\\khale\\\\machine_learning\\\\SMS\\\\weaviate\\\\state_of_the_union.txt'}, page_content='And my report is this: the State of the Union is strong—because you, the American people, are strong. \\n\\nWe are stronger today than we were a year ago. \\n\\nAnd we will be stronger a year from now than we are today. \\n\\nNow is our moment to meet and overcome the challenges of our time. \\n\\nAnd we will, as one people. \\n\\nOne America. \\n\\nThe United States of America. \\n\\nMay God bless you all. May God protect our troops.')]\n"
     ]
    }
   ],
   "source": [
    "print(documents)"
   ]
  },
  {
   "cell_type": "code",
   "execution_count": null,
   "metadata": {},
   "outputs": [],
   "source": [
    "from langchain_weaviate.vectorstores import WeaviateVectorStore\n",
    "\n"
   ]
  },
  {
   "cell_type": "code",
   "execution_count": null,
   "metadata": {},
   "outputs": [],
   "source": [
    "db = WeaviateVectorStore.from_documents(documents, embedding= embeddings_openai, client=client)"
   ]
  },
  {
   "cell_type": "code",
   "execution_count": null,
   "metadata": {},
   "outputs": [
    {
     "name": "stdout",
     "output_type": "stream",
     "text": [
      "\n",
      "Document 1:\n",
      "Tonight. I call on the Senate to: Pass the Freedom to Vote Act. Pass the John Lewis Voting Rights Ac...\n",
      "\n",
      "Document 2:\n",
      "A former top litigator in private practice. A former federal public defender. And from a family of p...\n",
      "\n",
      "Document 3:\n",
      "Vice President Harris and I ran for office with a new economic vision for America. \n",
      "\n",
      "Invest in Ameri...\n",
      "\n",
      "Document 4:\n",
      "And for our LGBTQ+ Americans, let’s finally get the bipartisan Equality Act to my desk. The onslaugh...\n"
     ]
    }
   ],
   "source": [
    "query = \"What did the president say about Ketanji Brown Jackson\"\n",
    "docs = db.similarity_search(query)\n",
    "\n",
    "# Print the first 100 characters of each result\n",
    "for i, doc in enumerate(docs):\n",
    "    print(f\"\\nDocument {i+1}:\")\n",
    "    print(doc.page_content[:100] + \"...\")"
   ]
  },
  {
   "cell_type": "code",
   "execution_count": null,
   "metadata": {},
   "outputs": [
    {
     "name": "stdout",
     "output_type": "stream",
     "text": [
      "0\n",
      "4\n"
     ]
    }
   ],
   "source": [
    "from weaviate.classes.query import Filter\n",
    "\n",
    "for filter_str in [\"blah.txt\", \"state_of_the_union.txt\"]:\n",
    "    search_filter = Filter.by_property(\"source\").equal(filter_str)\n",
    "    filtered_search_results = db.similarity_search(query, filters=search_filter)\n",
    "    print(len(filtered_search_results))\n",
    "    if filter_str == \"state_of_the_union.txt\":\n",
    "        assert len(filtered_search_results) > 0  # There should be at least one result\n",
    "    else:\n",
    "        assert len(filtered_search_results) == 0  # There should be no results"
   ]
  },
  {
   "cell_type": "code",
   "execution_count": null,
   "metadata": {},
   "outputs": [],
   "source": [
    "search_filter = Filter.by_property(\"source\").equal(\"state_of_the_union.txt\")\n",
    "filtered_search_results = db.similarity_search(query, filters=search_filter, k=3)\n",
    "assert len(filtered_search_results) <= 3"
   ]
  },
  {
   "cell_type": "code",
   "execution_count": null,
   "metadata": {},
   "outputs": [
    {
     "ename": "TypeError",
     "evalue": "Weaviate.__init__() missing 2 required positional arguments: 'index_name' and 'text_key'",
     "output_type": "error",
     "traceback": [
      "\u001b[1;31m---------------------------------------------------------------------------\u001b[0m",
      "\u001b[1;31mTypeError\u001b[0m                                 Traceback (most recent call last)",
      "Cell \u001b[1;32mIn[13], line 1\u001b[0m\n\u001b[1;32m----> 1\u001b[0m vectorstore \u001b[38;5;241m=\u001b[39m \u001b[43mWeaviate\u001b[49m\u001b[43m(\u001b[49m\n\u001b[0;32m      2\u001b[0m \u001b[43m    \u001b[49m\u001b[43mclient\u001b[49m\u001b[38;5;241;43m=\u001b[39;49m\u001b[43mclient\u001b[49m\u001b[43m,\u001b[49m\n\u001b[0;32m      3\u001b[0m \u001b[43m    \u001b[49m\u001b[43membedding\u001b[49m\u001b[38;5;241;43m=\u001b[39;49m\u001b[43membeddings_openai\u001b[49m\u001b[43m,\u001b[49m\n\u001b[0;32m      4\u001b[0m \u001b[43m    \u001b[49m\u001b[43mby_text\u001b[49m\u001b[38;5;241;43m=\u001b[39;49m\u001b[38;5;28;43;01mFalse\u001b[39;49;00m\u001b[43m  \u001b[49m\u001b[38;5;66;43;03m# Since we're providing embeddings\u001b[39;49;00m\n\u001b[0;32m      5\u001b[0m \u001b[43m)\u001b[49m\n",
      "\u001b[1;31mTypeError\u001b[0m: Weaviate.__init__() missing 2 required positional arguments: 'index_name' and 'text_key'"
     ]
    }
   ],
   "source": [
    "vectorstore = Weaviate(\n",
    "    client=client,\n",
    "    embedding=embeddings_openai,\n",
    "    by_text=False  # Since we're providing embeddings\n",
    ")"
   ]
  },
  {
   "cell_type": "code",
   "execution_count": null,
   "metadata": {},
   "outputs": [
    {
     "ename": "TypeError",
     "evalue": "Weaviate.__init__() missing 2 required positional arguments: 'index_name' and 'text_key'",
     "output_type": "error",
     "traceback": [
      "\u001b[1;31m---------------------------------------------------------------------------\u001b[0m",
      "\u001b[1;31mTypeError\u001b[0m                                 Traceback (most recent call last)",
      "Cell \u001b[1;32mIn[31], line 4\u001b[0m\n\u001b[0;32m      1\u001b[0m \u001b[38;5;28;01mfrom\u001b[39;00m \u001b[38;5;21;01mlangchain\u001b[39;00m\u001b[38;5;21;01m.\u001b[39;00m\u001b[38;5;21;01mvectorstores\u001b[39;00m \u001b[38;5;28;01mimport\u001b[39;00m Weaviate\n\u001b[0;32m      3\u001b[0m \u001b[38;5;66;03m# Initialize LangChain Weaviate vector store\u001b[39;00m\n\u001b[1;32m----> 4\u001b[0m vectorstore \u001b[38;5;241m=\u001b[39m \u001b[43mWeaviate\u001b[49m\u001b[43m(\u001b[49m\n\u001b[0;32m      5\u001b[0m \u001b[43m    \u001b[49m\u001b[43mclient\u001b[49m\u001b[38;5;241;43m=\u001b[39;49m\u001b[43mclient\u001b[49m\u001b[43m,\u001b[49m\n\u001b[0;32m      6\u001b[0m \u001b[43m    \u001b[49m\u001b[43membedding\u001b[49m\u001b[38;5;241;43m=\u001b[39;49m\u001b[43membeddings_openai\u001b[49m\u001b[43m,\u001b[49m\n\u001b[0;32m      7\u001b[0m \u001b[43m    \u001b[49m\u001b[43mby_text\u001b[49m\u001b[38;5;241;43m=\u001b[39;49m\u001b[38;5;28;43;01mFalse\u001b[39;49;00m\u001b[43m  \u001b[49m\u001b[38;5;66;43;03m# Since we're providing embeddings\u001b[39;49;00m\n\u001b[0;32m      8\u001b[0m \u001b[43m)\u001b[49m\n",
      "\u001b[1;31mTypeError\u001b[0m: Weaviate.__init__() missing 2 required positional arguments: 'index_name' and 'text_key'"
     ]
    }
   ],
   "source": [
    "from langchain.vectorstores import Weaviate\n",
    "\n",
    "# Initialize LangChain Weaviate vector store\n",
    "vectorstore = Weaviate(\n",
    "    client=client,\n",
    "    embedding=embeddings_openai,\n",
    "    by_text=False  # Since we're providing embeddings\n",
    ")\n"
   ]
  },
  {
   "cell_type": "markdown",
   "metadata": {},
   "source": [
    "WEAVIATE YOUTUBE CHANNEL"
   ]
  },
  {
   "cell_type": "code",
   "execution_count": 153,
   "metadata": {},
   "outputs": [
    {
     "ename": "UnexpectedStatusCodeError",
     "evalue": "Collection may not have been created properly.! Unexpected status code: 422, with response body: {'error': [{'message': 'class name Review already exists'}]}.",
     "output_type": "error",
     "traceback": [
      "\u001b[1;31m---------------------------------------------------------------------------\u001b[0m",
      "\u001b[1;31mUnexpectedStatusCodeError\u001b[0m                 Traceback (most recent call last)",
      "Cell \u001b[1;32mIn[153], line 5\u001b[0m\n\u001b[0;32m      1\u001b[0m \u001b[38;5;28;01mimport\u001b[39;00m \u001b[38;5;21;01mweaviate\u001b[39;00m\n\u001b[0;32m      2\u001b[0m \u001b[38;5;28;01mimport\u001b[39;00m \u001b[38;5;21;01mweaviate\u001b[39;00m\u001b[38;5;21;01m.\u001b[39;00m\u001b[38;5;21;01mclasses\u001b[39;00m\u001b[38;5;21;01m.\u001b[39;00m\u001b[38;5;21;01mconfig\u001b[39;00m \u001b[38;5;28;01mas\u001b[39;00m \u001b[38;5;21;01mwc\u001b[39;00m\n\u001b[1;32m----> 5\u001b[0m reviews \u001b[38;5;241m=\u001b[39m \u001b[43mclient\u001b[49m\u001b[38;5;241;43m.\u001b[39;49m\u001b[43mcollections\u001b[49m\u001b[38;5;241;43m.\u001b[39;49m\u001b[43mcreate\u001b[49m\u001b[43m(\u001b[49m\n\u001b[0;32m      6\u001b[0m \u001b[43m    \u001b[49m\u001b[43mname\u001b[49m\u001b[38;5;241;43m=\u001b[39;49m\u001b[38;5;124;43m\"\u001b[39;49m\u001b[38;5;124;43mReview\u001b[39;49m\u001b[38;5;124;43m\"\u001b[39;49m\u001b[43m,\u001b[49m\n\u001b[0;32m      7\u001b[0m \u001b[43m    \u001b[49m\u001b[43mproperties\u001b[49m\u001b[38;5;241;43m=\u001b[39;49m\u001b[43m[\u001b[49m\n\u001b[0;32m      8\u001b[0m \u001b[43m        \u001b[49m\u001b[43mwc\u001b[49m\u001b[38;5;241;43m.\u001b[39;49m\u001b[43mProperty\u001b[49m\u001b[43m(\u001b[49m\u001b[43mname\u001b[49m\u001b[38;5;241;43m=\u001b[39;49m\u001b[38;5;124;43m\"\u001b[39;49m\u001b[38;5;124;43musername\u001b[39;49m\u001b[38;5;124;43m\"\u001b[39;49m\u001b[43m,\u001b[49m\u001b[43m \u001b[49m\u001b[43mdata_type\u001b[49m\u001b[38;5;241;43m=\u001b[39;49m\u001b[43mwc\u001b[49m\u001b[38;5;241;43m.\u001b[39;49m\u001b[43mDataType\u001b[49m\u001b[38;5;241;43m.\u001b[39;49m\u001b[43mTEXT\u001b[49m\u001b[43m,\u001b[49m\u001b[43m \u001b[49m\u001b[43mskip_vectorization\u001b[49m\u001b[38;5;241;43m=\u001b[39;49m\u001b[38;5;28;43;01mTrue\u001b[39;49;00m\u001b[43m \u001b[49m\u001b[43m)\u001b[49m\u001b[43m,\u001b[49m\n\u001b[0;32m      9\u001b[0m \u001b[43m        \u001b[49m\u001b[43mwc\u001b[49m\u001b[38;5;241;43m.\u001b[39;49m\u001b[43mProperty\u001b[49m\u001b[43m(\u001b[49m\u001b[43mname\u001b[49m\u001b[38;5;241;43m=\u001b[39;49m\u001b[38;5;124;43m\"\u001b[39;49m\u001b[38;5;124;43mcontent\u001b[39;49m\u001b[38;5;124;43m\"\u001b[39;49m\u001b[43m,\u001b[49m\u001b[43m \u001b[49m\u001b[43mdata_type\u001b[49m\u001b[38;5;241;43m=\u001b[39;49m\u001b[43mwc\u001b[49m\u001b[38;5;241;43m.\u001b[39;49m\u001b[43mDataType\u001b[49m\u001b[38;5;241;43m.\u001b[39;49m\u001b[43mTEXT\u001b[49m\u001b[43m \u001b[49m\u001b[43m)\u001b[49m\u001b[43m,\u001b[49m\n\u001b[0;32m     10\u001b[0m \u001b[43m        \u001b[49m\u001b[43mwc\u001b[49m\u001b[38;5;241;43m.\u001b[39;49m\u001b[43mProperty\u001b[49m\u001b[43m(\u001b[49m\u001b[43mname\u001b[49m\u001b[38;5;241;43m=\u001b[39;49m\u001b[38;5;124;43m\"\u001b[39;49m\u001b[38;5;124;43mtmdb_id\u001b[39;49m\u001b[38;5;124;43m\"\u001b[39;49m\u001b[43m,\u001b[49m\u001b[43m \u001b[49m\u001b[43mdata_type\u001b[49m\u001b[38;5;241;43m=\u001b[39;49m\u001b[43mwc\u001b[49m\u001b[38;5;241;43m.\u001b[39;49m\u001b[43mDataType\u001b[49m\u001b[38;5;241;43m.\u001b[39;49m\u001b[43mTEXT\u001b[49m\u001b[43m,\u001b[49m\u001b[43m \u001b[49m\u001b[43mskip_vectorization\u001b[49m\u001b[38;5;241;43m=\u001b[39;49m\u001b[38;5;28;43;01mTrue\u001b[39;49;00m\u001b[43m \u001b[49m\u001b[43m)\u001b[49m\u001b[43m,\u001b[49m\n\u001b[0;32m     11\u001b[0m \u001b[43m    \u001b[49m\u001b[43m]\u001b[49m\u001b[43m,\u001b[49m\n\u001b[0;32m     12\u001b[0m \u001b[43m    \u001b[49m\u001b[43mvectorizer_config\u001b[49m\u001b[38;5;241;43m=\u001b[39;49m\u001b[43mwc\u001b[49m\u001b[38;5;241;43m.\u001b[39;49m\u001b[43mConfigure\u001b[49m\u001b[38;5;241;43m.\u001b[39;49m\u001b[43mVectorizer\u001b[49m\u001b[38;5;241;43m.\u001b[39;49m\u001b[43mtext2vec_cohere\u001b[49m\u001b[43m(\u001b[49m\u001b[43m)\u001b[49m\u001b[43m,\u001b[49m\n\u001b[0;32m     13\u001b[0m \u001b[43m    \u001b[49m\u001b[43mgenerative_config\u001b[49m\u001b[38;5;241;43m=\u001b[39;49m\u001b[43mwc\u001b[49m\u001b[38;5;241;43m.\u001b[39;49m\u001b[43mConfigure\u001b[49m\u001b[38;5;241;43m.\u001b[39;49m\u001b[43mGenerative\u001b[49m\u001b[38;5;241;43m.\u001b[39;49m\u001b[43mopenai\u001b[49m\u001b[43m(\u001b[49m\n\u001b[0;32m     14\u001b[0m \u001b[43m        \u001b[49m\u001b[43mmodel\u001b[49m\u001b[38;5;241;43m=\u001b[39;49m\u001b[38;5;124;43m\"\u001b[39;49m\u001b[38;5;124;43mgpt-4o\u001b[39;49m\u001b[38;5;124;43m\"\u001b[39;49m\u001b[43m,\u001b[49m\n\u001b[0;32m     15\u001b[0m \u001b[43m        \u001b[49m\u001b[43mmax_tokens\u001b[49m\u001b[38;5;241;43m=\u001b[39;49m\u001b[38;5;241;43m128000\u001b[39;49m\n\u001b[0;32m     16\u001b[0m \u001b[43m    \u001b[49m\u001b[43m)\u001b[49m\u001b[43m,\u001b[49m\n\u001b[0;32m     17\u001b[0m \u001b[43m    \u001b[49m\u001b[43minverted_index_config\u001b[49m\u001b[38;5;241;43m=\u001b[39;49m\u001b[43mwc\u001b[49m\u001b[38;5;241;43m.\u001b[39;49m\u001b[43mConfigure\u001b[49m\u001b[38;5;241;43m.\u001b[39;49m\u001b[43minverted_index\u001b[49m\u001b[43m(\u001b[49m\n\u001b[0;32m     18\u001b[0m \u001b[43m        \u001b[49m\u001b[43mindex_property_length\u001b[49m\u001b[38;5;241;43m=\u001b[39;49m\u001b[38;5;28;43;01mTrue\u001b[39;49;00m\u001b[43m,\u001b[49m\n\u001b[0;32m     19\u001b[0m \u001b[43m    \u001b[49m\u001b[43m)\u001b[49m\u001b[43m,\u001b[49m\n\u001b[0;32m     20\u001b[0m \u001b[43m)\u001b[49m\n\u001b[0;32m     22\u001b[0m movies \u001b[38;5;241m=\u001b[39m client\u001b[38;5;241m.\u001b[39mcollections\u001b[38;5;241m.\u001b[39mcreate(\n\u001b[0;32m     23\u001b[0m     name\u001b[38;5;241m=\u001b[39m\u001b[38;5;124m\"\u001b[39m\u001b[38;5;124mMovie\u001b[39m\u001b[38;5;124m\"\u001b[39m,\n\u001b[0;32m     24\u001b[0m     properties\u001b[38;5;241m=\u001b[39m[\n\u001b[1;32m   (...)\u001b[0m\n\u001b[0;32m     46\u001b[0m     ]\n\u001b[0;32m     47\u001b[0m )\n\u001b[0;32m     49\u001b[0m \u001b[38;5;28mprint\u001b[39m(reviews\u001b[38;5;241m.\u001b[39mconfig\u001b[38;5;241m.\u001b[39mget(simple\u001b[38;5;241m=\u001b[39m\u001b[38;5;28;01mFalse\u001b[39;00m))\n",
      "File \u001b[1;32mc:\\Users\\khale\\machine_learning\\SMS\\weaviate\\venv\\Lib\\site-packages\\weaviate\\collections\\collections\\sync.py:107\u001b[0m, in \u001b[0;36m_Collections.create\u001b[1;34m(self, name, description, generative_config, inverted_index_config, multi_tenancy_config, properties, references, replication_config, reranker_config, sharding_config, vector_index_config, vectorizer_config, data_model_properties, data_model_references, skip_argument_validation)\u001b[0m\n\u001b[0;32m     36\u001b[0m \u001b[38;5;28;01mdef\u001b[39;00m \u001b[38;5;21mcreate\u001b[39m(\n\u001b[0;32m     37\u001b[0m     \u001b[38;5;28mself\u001b[39m,\n\u001b[0;32m     38\u001b[0m     name: \u001b[38;5;28mstr\u001b[39m,\n\u001b[1;32m   (...)\u001b[0m\n\u001b[0;32m     55\u001b[0m     skip_argument_validation: \u001b[38;5;28mbool\u001b[39m \u001b[38;5;241m=\u001b[39m \u001b[38;5;28;01mFalse\u001b[39;00m,\n\u001b[0;32m     56\u001b[0m ) \u001b[38;5;241m-\u001b[39m\u001b[38;5;241m>\u001b[39m Collection[Properties, References]:\n\u001b[0;32m     57\u001b[0m \u001b[38;5;250m    \u001b[39m\u001b[38;5;124;03m\"\"\"Use this method to create a collection in Weaviate and immediately return a collection object.\u001b[39;00m\n\u001b[0;32m     58\u001b[0m \n\u001b[0;32m     59\u001b[0m \u001b[38;5;124;03m    This method takes several arguments that allow you to configure the collection to your liking. Each argument\u001b[39;00m\n\u001b[1;32m   (...)\u001b[0m\n\u001b[0;32m    105\u001b[0m \u001b[38;5;124;03m            If Weaviate reports a non-OK status.\u001b[39;00m\n\u001b[0;32m    106\u001b[0m \u001b[38;5;124;03m    \"\"\"\u001b[39;00m\n\u001b[1;32m--> 107\u001b[0m     \u001b[38;5;28;43mself\u001b[39;49m\u001b[38;5;241;43m.\u001b[39;49m\u001b[43m__loop\u001b[49m\u001b[38;5;241;43m.\u001b[39;49m\u001b[43mrun_until_complete\u001b[49m\u001b[43m(\u001b[49m\n\u001b[0;32m    108\u001b[0m \u001b[43m        \u001b[49m\u001b[38;5;28;43mself\u001b[39;49m\u001b[38;5;241;43m.\u001b[39;49m\u001b[43m__collections\u001b[49m\u001b[38;5;241;43m.\u001b[39;49m\u001b[43mcreate\u001b[49m\u001b[43m,\u001b[49m\n\u001b[0;32m    109\u001b[0m \u001b[43m        \u001b[49m\u001b[43mname\u001b[49m\u001b[43m,\u001b[49m\n\u001b[0;32m    110\u001b[0m \u001b[43m        \u001b[49m\u001b[43mdescription\u001b[49m\u001b[38;5;241;43m=\u001b[39;49m\u001b[43mdescription\u001b[49m\u001b[43m,\u001b[49m\n\u001b[0;32m    111\u001b[0m \u001b[43m        \u001b[49m\u001b[43mgenerative_config\u001b[49m\u001b[38;5;241;43m=\u001b[39;49m\u001b[43mgenerative_config\u001b[49m\u001b[43m,\u001b[49m\n\u001b[0;32m    112\u001b[0m \u001b[43m        \u001b[49m\u001b[43minverted_index_config\u001b[49m\u001b[38;5;241;43m=\u001b[39;49m\u001b[43minverted_index_config\u001b[49m\u001b[43m,\u001b[49m\n\u001b[0;32m    113\u001b[0m \u001b[43m        \u001b[49m\u001b[43mmulti_tenancy_config\u001b[49m\u001b[38;5;241;43m=\u001b[39;49m\u001b[43mmulti_tenancy_config\u001b[49m\u001b[43m,\u001b[49m\n\u001b[0;32m    114\u001b[0m \u001b[43m        \u001b[49m\u001b[43mproperties\u001b[49m\u001b[38;5;241;43m=\u001b[39;49m\u001b[43mproperties\u001b[49m\u001b[43m,\u001b[49m\n\u001b[0;32m    115\u001b[0m \u001b[43m        \u001b[49m\u001b[43mreferences\u001b[49m\u001b[38;5;241;43m=\u001b[39;49m\u001b[43mreferences\u001b[49m\u001b[43m,\u001b[49m\n\u001b[0;32m    116\u001b[0m \u001b[43m        \u001b[49m\u001b[43mreplication_config\u001b[49m\u001b[38;5;241;43m=\u001b[39;49m\u001b[43mreplication_config\u001b[49m\u001b[43m,\u001b[49m\n\u001b[0;32m    117\u001b[0m \u001b[43m        \u001b[49m\u001b[43mreranker_config\u001b[49m\u001b[38;5;241;43m=\u001b[39;49m\u001b[43mreranker_config\u001b[49m\u001b[43m,\u001b[49m\n\u001b[0;32m    118\u001b[0m \u001b[43m        \u001b[49m\u001b[43msharding_config\u001b[49m\u001b[38;5;241;43m=\u001b[39;49m\u001b[43msharding_config\u001b[49m\u001b[43m,\u001b[49m\n\u001b[0;32m    119\u001b[0m \u001b[43m        \u001b[49m\u001b[43mvector_index_config\u001b[49m\u001b[38;5;241;43m=\u001b[39;49m\u001b[43mvector_index_config\u001b[49m\u001b[43m,\u001b[49m\n\u001b[0;32m    120\u001b[0m \u001b[43m        \u001b[49m\u001b[43mvectorizer_config\u001b[49m\u001b[38;5;241;43m=\u001b[39;49m\u001b[43mvectorizer_config\u001b[49m\u001b[43m,\u001b[49m\n\u001b[0;32m    121\u001b[0m \u001b[43m        \u001b[49m\u001b[43mdata_model_properties\u001b[49m\u001b[38;5;241;43m=\u001b[39;49m\u001b[43mdata_model_properties\u001b[49m\u001b[43m,\u001b[49m\n\u001b[0;32m    122\u001b[0m \u001b[43m        \u001b[49m\u001b[43mdata_model_references\u001b[49m\u001b[38;5;241;43m=\u001b[39;49m\u001b[43mdata_model_references\u001b[49m\u001b[43m,\u001b[49m\n\u001b[0;32m    123\u001b[0m \u001b[43m        \u001b[49m\u001b[43mskip_argument_validation\u001b[49m\u001b[38;5;241;43m=\u001b[39;49m\u001b[43mskip_argument_validation\u001b[49m\u001b[43m,\u001b[49m\n\u001b[0;32m    124\u001b[0m \u001b[43m    \u001b[49m\u001b[43m)\u001b[49m\n\u001b[0;32m    125\u001b[0m     \u001b[38;5;28;01mreturn\u001b[39;00m \u001b[38;5;28mself\u001b[39m\u001b[38;5;241m.\u001b[39mget(\n\u001b[0;32m    126\u001b[0m         name,\n\u001b[0;32m    127\u001b[0m         data_model_properties\u001b[38;5;241m=\u001b[39mdata_model_properties,\n\u001b[0;32m    128\u001b[0m         data_model_references\u001b[38;5;241m=\u001b[39mdata_model_references,\n\u001b[0;32m    129\u001b[0m         skip_argument_validation\u001b[38;5;241m=\u001b[39mskip_argument_validation,\n\u001b[0;32m    130\u001b[0m     )\n",
      "File \u001b[1;32mc:\\Users\\khale\\machine_learning\\SMS\\weaviate\\venv\\Lib\\site-packages\\weaviate\\event_loop.py:40\u001b[0m, in \u001b[0;36m_EventLoop.run_until_complete\u001b[1;34m(self, f, *args, **kwargs)\u001b[0m\n\u001b[0;32m     38\u001b[0m     \u001b[38;5;28;01mraise\u001b[39;00m WeaviateClosedClientError()\n\u001b[0;32m     39\u001b[0m fut \u001b[38;5;241m=\u001b[39m asyncio\u001b[38;5;241m.\u001b[39mrun_coroutine_threadsafe(f(\u001b[38;5;241m*\u001b[39margs, \u001b[38;5;241m*\u001b[39m\u001b[38;5;241m*\u001b[39mkwargs), \u001b[38;5;28mself\u001b[39m\u001b[38;5;241m.\u001b[39mloop)\n\u001b[1;32m---> 40\u001b[0m \u001b[38;5;28;01mreturn\u001b[39;00m \u001b[43mfut\u001b[49m\u001b[38;5;241;43m.\u001b[39;49m\u001b[43mresult\u001b[49m\u001b[43m(\u001b[49m\u001b[43m)\u001b[49m\n",
      "File \u001b[1;32mC:\\Python311\\Lib\\concurrent\\futures\\_base.py:456\u001b[0m, in \u001b[0;36mFuture.result\u001b[1;34m(self, timeout)\u001b[0m\n\u001b[0;32m    454\u001b[0m     \u001b[38;5;28;01mraise\u001b[39;00m CancelledError()\n\u001b[0;32m    455\u001b[0m \u001b[38;5;28;01melif\u001b[39;00m \u001b[38;5;28mself\u001b[39m\u001b[38;5;241m.\u001b[39m_state \u001b[38;5;241m==\u001b[39m FINISHED:\n\u001b[1;32m--> 456\u001b[0m     \u001b[38;5;28;01mreturn\u001b[39;00m \u001b[38;5;28;43mself\u001b[39;49m\u001b[38;5;241;43m.\u001b[39;49m\u001b[43m__get_result\u001b[49m\u001b[43m(\u001b[49m\u001b[43m)\u001b[49m\n\u001b[0;32m    457\u001b[0m \u001b[38;5;28;01melse\u001b[39;00m:\n\u001b[0;32m    458\u001b[0m     \u001b[38;5;28;01mraise\u001b[39;00m \u001b[38;5;167;01mTimeoutError\u001b[39;00m()\n",
      "File \u001b[1;32mC:\\Python311\\Lib\\concurrent\\futures\\_base.py:401\u001b[0m, in \u001b[0;36mFuture.__get_result\u001b[1;34m(self)\u001b[0m\n\u001b[0;32m    399\u001b[0m \u001b[38;5;28;01mif\u001b[39;00m \u001b[38;5;28mself\u001b[39m\u001b[38;5;241m.\u001b[39m_exception:\n\u001b[0;32m    400\u001b[0m     \u001b[38;5;28;01mtry\u001b[39;00m:\n\u001b[1;32m--> 401\u001b[0m         \u001b[38;5;28;01mraise\u001b[39;00m \u001b[38;5;28mself\u001b[39m\u001b[38;5;241m.\u001b[39m_exception\n\u001b[0;32m    402\u001b[0m     \u001b[38;5;28;01mfinally\u001b[39;00m:\n\u001b[0;32m    403\u001b[0m         \u001b[38;5;66;03m# Break a reference cycle with the exception in self._exception\u001b[39;00m\n\u001b[0;32m    404\u001b[0m         \u001b[38;5;28mself\u001b[39m \u001b[38;5;241m=\u001b[39m \u001b[38;5;28;01mNone\u001b[39;00m\n",
      "File \u001b[1;32mc:\\Users\\khale\\machine_learning\\SMS\\weaviate\\venv\\Lib\\site-packages\\weaviate\\collections\\collections\\async_.py:132\u001b[0m, in \u001b[0;36m_CollectionsAsync.create\u001b[1;34m(self, name, description, generative_config, inverted_index_config, multi_tenancy_config, properties, references, replication_config, reranker_config, sharding_config, vector_index_config, vectorizer_config, data_model_properties, data_model_references, skip_argument_validation)\u001b[0m\n\u001b[0;32m    128\u001b[0m \u001b[38;5;28;01mexcept\u001b[39;00m ValidationError \u001b[38;5;28;01mas\u001b[39;00m e:\n\u001b[0;32m    129\u001b[0m     \u001b[38;5;28;01mraise\u001b[39;00m WeaviateInvalidInputError(\n\u001b[0;32m    130\u001b[0m         \u001b[38;5;124mf\u001b[39m\u001b[38;5;124m\"\u001b[39m\u001b[38;5;124mInvalid collection config create parameters: \u001b[39m\u001b[38;5;132;01m{\u001b[39;00me\u001b[38;5;132;01m}\u001b[39;00m\u001b[38;5;124m\"\u001b[39m\n\u001b[0;32m    131\u001b[0m     ) \u001b[38;5;28;01mfrom\u001b[39;00m \u001b[38;5;21;01me\u001b[39;00m\n\u001b[1;32m--> 132\u001b[0m name \u001b[38;5;241m=\u001b[39m \u001b[38;5;28;01mawait\u001b[39;00m \u001b[38;5;28msuper\u001b[39m()\u001b[38;5;241m.\u001b[39m_create(config\u001b[38;5;241m.\u001b[39m_to_dict())\n\u001b[0;32m    133\u001b[0m \u001b[38;5;28;01massert\u001b[39;00m (\n\u001b[0;32m    134\u001b[0m     config\u001b[38;5;241m.\u001b[39mname \u001b[38;5;241m==\u001b[39m name\n\u001b[0;32m    135\u001b[0m ), \u001b[38;5;124mf\u001b[39m\u001b[38;5;124m\"\u001b[39m\u001b[38;5;124mName of created collection (\u001b[39m\u001b[38;5;132;01m{\u001b[39;00mname\u001b[38;5;132;01m}\u001b[39;00m\u001b[38;5;124m) does not match given name (\u001b[39m\u001b[38;5;132;01m{\u001b[39;00mconfig\u001b[38;5;241m.\u001b[39mname\u001b[38;5;132;01m}\u001b[39;00m\u001b[38;5;124m)\u001b[39m\u001b[38;5;124m\"\u001b[39m\n\u001b[0;32m    136\u001b[0m \u001b[38;5;28;01mreturn\u001b[39;00m \u001b[38;5;28mself\u001b[39m\u001b[38;5;241m.\u001b[39mget(\n\u001b[0;32m    137\u001b[0m     name,\n\u001b[0;32m    138\u001b[0m     data_model_properties,\n\u001b[0;32m    139\u001b[0m     data_model_references,\n\u001b[0;32m    140\u001b[0m     skip_argument_validation\u001b[38;5;241m=\u001b[39mskip_argument_validation,\n\u001b[0;32m    141\u001b[0m )\n",
      "File \u001b[1;32mc:\\Users\\khale\\machine_learning\\SMS\\weaviate\\venv\\Lib\\site-packages\\weaviate\\collections\\collections\\base.py:27\u001b[0m, in \u001b[0;36m_CollectionsBase._create\u001b[1;34m(self, config)\u001b[0m\n\u001b[0;32m     23\u001b[0m \u001b[38;5;28;01masync\u001b[39;00m \u001b[38;5;28;01mdef\u001b[39;00m \u001b[38;5;21m_create\u001b[39m(\n\u001b[0;32m     24\u001b[0m     \u001b[38;5;28mself\u001b[39m,\n\u001b[0;32m     25\u001b[0m     config: \u001b[38;5;28mdict\u001b[39m,\n\u001b[0;32m     26\u001b[0m ) \u001b[38;5;241m-\u001b[39m\u001b[38;5;241m>\u001b[39m \u001b[38;5;28mstr\u001b[39m:\n\u001b[1;32m---> 27\u001b[0m     response \u001b[38;5;241m=\u001b[39m \u001b[38;5;28;01mawait\u001b[39;00m \u001b[38;5;28mself\u001b[39m\u001b[38;5;241m.\u001b[39m_connection\u001b[38;5;241m.\u001b[39mpost(\n\u001b[0;32m     28\u001b[0m         path\u001b[38;5;241m=\u001b[39m\u001b[38;5;124m\"\u001b[39m\u001b[38;5;124m/schema\u001b[39m\u001b[38;5;124m\"\u001b[39m,\n\u001b[0;32m     29\u001b[0m         weaviate_object\u001b[38;5;241m=\u001b[39mconfig,\n\u001b[0;32m     30\u001b[0m         error_msg\u001b[38;5;241m=\u001b[39m\u001b[38;5;124m\"\u001b[39m\u001b[38;5;124mCollection may not have been created properly.\u001b[39m\u001b[38;5;124m\"\u001b[39m,\n\u001b[0;32m     31\u001b[0m         status_codes\u001b[38;5;241m=\u001b[39m_ExpectedStatusCodes(ok_in\u001b[38;5;241m=\u001b[39m\u001b[38;5;241m200\u001b[39m, error\u001b[38;5;241m=\u001b[39m\u001b[38;5;124m\"\u001b[39m\u001b[38;5;124mCreate collection\u001b[39m\u001b[38;5;124m\"\u001b[39m),\n\u001b[0;32m     32\u001b[0m     )\n\u001b[0;32m     34\u001b[0m     collection_name \u001b[38;5;241m=\u001b[39m response\u001b[38;5;241m.\u001b[39mjson()[\u001b[38;5;124m\"\u001b[39m\u001b[38;5;124mclass\u001b[39m\u001b[38;5;124m\"\u001b[39m]\n\u001b[0;32m     35\u001b[0m     \u001b[38;5;28;01massert\u001b[39;00m \u001b[38;5;28misinstance\u001b[39m(collection_name, \u001b[38;5;28mstr\u001b[39m)\n",
      "File \u001b[1;32mc:\\Users\\khale\\machine_learning\\SMS\\weaviate\\venv\\Lib\\site-packages\\weaviate\\connect\\v4.py:511\u001b[0m, in \u001b[0;36mConnectionV4.post\u001b[1;34m(self, path, weaviate_object, params, error_msg, status_codes, is_gql_query)\u001b[0m\n\u001b[0;32m    502\u001b[0m \u001b[38;5;28;01masync\u001b[39;00m \u001b[38;5;28;01mdef\u001b[39;00m \u001b[38;5;21mpost\u001b[39m(\n\u001b[0;32m    503\u001b[0m     \u001b[38;5;28mself\u001b[39m,\n\u001b[0;32m    504\u001b[0m     path: \u001b[38;5;28mstr\u001b[39m,\n\u001b[1;32m   (...)\u001b[0m\n\u001b[0;32m    509\u001b[0m     is_gql_query: \u001b[38;5;28mbool\u001b[39m \u001b[38;5;241m=\u001b[39m \u001b[38;5;28;01mFalse\u001b[39;00m,\n\u001b[0;32m    510\u001b[0m ) \u001b[38;5;241m-\u001b[39m\u001b[38;5;241m>\u001b[39m Response:\n\u001b[1;32m--> 511\u001b[0m     \u001b[38;5;28;01mreturn\u001b[39;00m \u001b[38;5;28;01mawait\u001b[39;00m \u001b[38;5;28mself\u001b[39m\u001b[38;5;241m.\u001b[39m__send(\n\u001b[0;32m    512\u001b[0m         \u001b[38;5;124m\"\u001b[39m\u001b[38;5;124mPOST\u001b[39m\u001b[38;5;124m\"\u001b[39m,\n\u001b[0;32m    513\u001b[0m         url\u001b[38;5;241m=\u001b[39m\u001b[38;5;28mself\u001b[39m\u001b[38;5;241m.\u001b[39murl \u001b[38;5;241m+\u001b[39m \u001b[38;5;28mself\u001b[39m\u001b[38;5;241m.\u001b[39m_api_version_path \u001b[38;5;241m+\u001b[39m path,\n\u001b[0;32m    514\u001b[0m         weaviate_object\u001b[38;5;241m=\u001b[39mweaviate_object,\n\u001b[0;32m    515\u001b[0m         params\u001b[38;5;241m=\u001b[39mparams,\n\u001b[0;32m    516\u001b[0m         error_msg\u001b[38;5;241m=\u001b[39merror_msg,\n\u001b[0;32m    517\u001b[0m         status_codes\u001b[38;5;241m=\u001b[39mstatus_codes,\n\u001b[0;32m    518\u001b[0m         is_gql_query\u001b[38;5;241m=\u001b[39mis_gql_query,\n\u001b[0;32m    519\u001b[0m     )\n",
      "File \u001b[1;32mc:\\Users\\khale\\machine_learning\\SMS\\weaviate\\venv\\Lib\\site-packages\\weaviate\\connect\\v4.py:466\u001b[0m, in \u001b[0;36mConnectionV4.__send\u001b[1;34m(self, method, url, error_msg, status_codes, is_gql_query, weaviate_object, params)\u001b[0m\n\u001b[0;32m    464\u001b[0m     \u001b[38;5;28;01mraise\u001b[39;00m WeaviateTimeoutError(error_msg) \u001b[38;5;28;01mfrom\u001b[39;00m \u001b[38;5;21;01mread_err\u001b[39;00m\n\u001b[0;32m    465\u001b[0m \u001b[38;5;28;01mexcept\u001b[39;00m \u001b[38;5;167;01mException\u001b[39;00m \u001b[38;5;28;01mas\u001b[39;00m e:\n\u001b[1;32m--> 466\u001b[0m     \u001b[38;5;28;01mraise\u001b[39;00m e\n",
      "File \u001b[1;32mc:\\Users\\khale\\machine_learning\\SMS\\weaviate\\venv\\Lib\\site-packages\\weaviate\\connect\\v4.py:457\u001b[0m, in \u001b[0;36mConnectionV4.__send\u001b[1;34m(self, method, url, error_msg, status_codes, is_gql_query, weaviate_object, params)\u001b[0m\n\u001b[0;32m    455\u001b[0m     res \u001b[38;5;241m=\u001b[39m \u001b[38;5;28;01mawait\u001b[39;00m \u001b[38;5;28mself\u001b[39m\u001b[38;5;241m.\u001b[39m_client\u001b[38;5;241m.\u001b[39msend(req)\n\u001b[0;32m    456\u001b[0m     \u001b[38;5;28;01mif\u001b[39;00m status_codes \u001b[38;5;129;01mis\u001b[39;00m \u001b[38;5;129;01mnot\u001b[39;00m \u001b[38;5;28;01mNone\u001b[39;00m \u001b[38;5;129;01mand\u001b[39;00m res\u001b[38;5;241m.\u001b[39mstatus_code \u001b[38;5;129;01mnot\u001b[39;00m \u001b[38;5;129;01min\u001b[39;00m status_codes\u001b[38;5;241m.\u001b[39mok:\n\u001b[1;32m--> 457\u001b[0m         \u001b[38;5;28;01mraise\u001b[39;00m UnexpectedStatusCodeError(error_msg, response\u001b[38;5;241m=\u001b[39mres)\n\u001b[0;32m    458\u001b[0m     \u001b[38;5;28;01mreturn\u001b[39;00m cast(Response, res)\n\u001b[0;32m    459\u001b[0m \u001b[38;5;28;01mexcept\u001b[39;00m \u001b[38;5;167;01mRuntimeError\u001b[39;00m \u001b[38;5;28;01mas\u001b[39;00m e:\n",
      "\u001b[1;31mUnexpectedStatusCodeError\u001b[0m: Collection may not have been created properly.! Unexpected status code: 422, with response body: {'error': [{'message': 'class name Review already exists'}]}."
     ]
    }
   ],
   "source": [
    "import weaviate\n",
    "import weaviate.classes.config as wc\n",
    "\n",
    "\n",
    "reviews = client.collections.create(\n",
    "    name=\"Review\",\n",
    "    properties=[\n",
    "        wc.Property(name=\"username\", data_type=wc.DataType.TEXT, skip_vectorization=True ),\n",
    "        wc.Property(name=\"content\", data_type=wc.DataType.TEXT ),\n",
    "        wc.Property(name=\"tmdb_id\", data_type=wc.DataType.TEXT, skip_vectorization=True ),\n",
    "    ],\n",
    "    vectorizer_config=wc.Configure.Vectorizer.text2vec_cohere(),\n",
    "    generative_config=wc.Configure.Generative.openai(\n",
    "        model=\"gpt-4o\",\n",
    "        max_tokens=128000\n",
    "    ),\n",
    "    inverted_index_config=wc.Configure.inverted_index(\n",
    "        index_property_length=True,\n",
    "    ),\n",
    ")\n",
    "\n",
    "movies = client.collections.create(\n",
    "    name=\"Movie\",\n",
    "    properties=[\n",
    "        wc.Property(name=\"title\", data_type=wc.DataType.TEXT ),\n",
    "        wc.Property(name=\"tagline\", data_type=wc.DataType.TEXT ),\n",
    "        wc.Property(name=\"overview\", data_type=wc.DataType.TEXT ),\n",
    "        wc.Property(name=\"runtime\", data_type=wc.DataType.INT ),\n",
    "        wc.Property(name=\"release_date\", data_type=wc.DataType.DATE ),\n",
    "        wc.Property(name=\"description\", data_type=wc.DataType.TEXT ),\n",
    "        wc.Property(name=\"tmdb_id\", data_type=wc.DataType.TEXT, skip_vectorization=True ),\n",
    "    ],\n",
    "    vectorizer_config=wc.Configure.Vectorizer.text2vec_cohere(),\n",
    "    generative_config=wc.Configure.Generative.openai(\n",
    "        model=\"gpt-4o\",\n",
    "        max_tokens=128000\n",
    "    ),\n",
    "    vector_index_config=wc.Configure.VectorIndex.hnsw(\n",
    "        distance_metric=wc.VectorDistances.COSINE,\n",
    "    ),\n",
    "    references=[\n",
    "        wc.ReferenceProperty(\n",
    "            name=\"hasReview\",\n",
    "            target_collection=\"Review\",\n",
    "        )\n",
    "    ]\n",
    ")\n",
    "\n",
    "print(reviews.config.get(simple=False))\n"
   ]
  },
  {
   "cell_type": "code",
   "execution_count": null,
   "metadata": {},
   "outputs": [
    {
     "name": "stdout",
     "output_type": "stream",
     "text": [
      "Item collection does not exist\n"
     ]
    }
   ],
   "source": [
    "try:\n",
    "    reviews = client.collections.get(\"Item\")\n",
    "    print(reviews.config.get(simple=False))\n",
    "except Exception as e:\n",
    "    print(\"Item collection does not exist\")\n"
   ]
  },
  {
   "cell_type": "code",
   "execution_count": 154,
   "metadata": {},
   "outputs": [
    {
     "name": "stdout",
     "output_type": "stream",
     "text": [
      "Item collection already exists: Creating new Item collection\n"
     ]
    }
   ],
   "source": [
    "def create_weaviate_schema():\n",
    "    # Check if 'Item' class exists\n",
    "    try:\n",
    "        items =client.collections.get(\"Item\")\n",
    "        print(items.config.get(simple=False))\n",
    "    except Exception as e:\n",
    "        print(\"Item collection already exists: Creating new Item collection\")\n",
    "        client.collections.create(\n",
    "            name=\"Item\",\n",
    "            properties=[\n",
    "                wc.Property(name=\"id\", data_type=wc.DataType.TEXT, skip_vectorization=True),\n",
    "                wc.Property(name=\"name\", data_type=wc.DataType.TEXT),\n",
    "                wc.Property(name=\"description\", data_type=wc.DataType.TEXT, optional=True),\n",
    "                wc.Property(name=\"box\", data_type=wc.DataType.TEXT, skip_vectorization=True),\n",
    "                wc.Property(name=\"workspace\", data_type=wc.DataType.TEXT, skip_vectorization=True),\n",
    "            ],\n",
    "            vectorizer_config=wc.Configure.Vectorizer.text2vec_openai(),\n",
    "            generative_config=wc.Configure.Generative.openai(\n",
    "        model=\"gpt-4o\",\n",
    "        max_tokens=128000\n",
    "    ),\n",
    "            vector_index_config=wc.Configure.VectorIndex.hnsw(\n",
    "                distance_metric=wc.VectorDistances.COSINE,\n",
    "            ),\n",
    "        )\n",
    "\n",
    "create_weaviate_schema()"
   ]
  },
  {
   "cell_type": "code",
   "execution_count": 155,
   "metadata": {},
   "outputs": [
    {
     "name": "stdout",
     "output_type": "stream",
     "text": [
      "_CollectionConfig(name='Item', description=None, generative_config=_GenerativeConfig(generative=<GenerativeSearches.OPENAI: 'generative-openai'>, model={'maxTokensProperty': 128000, 'model': 'gpt-4o'}), inverted_index_config=_InvertedIndexConfig(bm25=_BM25Config(b=0.75, k1=1.2), cleanup_interval_seconds=60, index_null_state=False, index_property_length=False, index_timestamps=False, stopwords=_StopwordsConfig(preset=<StopwordsPreset.EN: 'en'>, additions=None, removals=None)), multi_tenancy_config=_MultiTenancyConfig(enabled=False, auto_tenant_creation=False, auto_tenant_activation=False), properties=[_Property(name='item_id', description=None, data_type=<DataType.TEXT: 'text'>, index_filterable=True, index_range_filters=False, index_searchable=True, nested_properties=None, tokenization=<Tokenization.WORD: 'word'>, vectorizer_config=_PropertyVectorizerConfig(skip=True, vectorize_property_name=True), vectorizer='text2vec-openai'), _Property(name='name', description=None, data_type=<DataType.TEXT: 'text'>, index_filterable=True, index_range_filters=False, index_searchable=True, nested_properties=None, tokenization=<Tokenization.WORD: 'word'>, vectorizer_config=_PropertyVectorizerConfig(skip=False, vectorize_property_name=True), vectorizer='text2vec-openai'), _Property(name='description', description=None, data_type=<DataType.TEXT: 'text'>, index_filterable=True, index_range_filters=False, index_searchable=True, nested_properties=None, tokenization=<Tokenization.WORD: 'word'>, vectorizer_config=_PropertyVectorizerConfig(skip=False, vectorize_property_name=True), vectorizer='text2vec-openai'), _Property(name='box', description=None, data_type=<DataType.TEXT: 'text'>, index_filterable=True, index_range_filters=False, index_searchable=True, nested_properties=None, tokenization=<Tokenization.WORD: 'word'>, vectorizer_config=_PropertyVectorizerConfig(skip=True, vectorize_property_name=True), vectorizer='text2vec-openai'), _Property(name='workspace', description=None, data_type=<DataType.TEXT: 'text'>, index_filterable=True, index_range_filters=False, index_searchable=True, nested_properties=None, tokenization=<Tokenization.WORD: 'word'>, vectorizer_config=_PropertyVectorizerConfig(skip=True, vectorize_property_name=True), vectorizer='text2vec-openai')], references=[], replication_config=_ReplicationConfig(factor=1, async_enabled=False), reranker_config=None, sharding_config=_ShardingConfig(virtual_per_physical=128, desired_count=1, actual_count=1, desired_virtual_count=128, actual_virtual_count=128, key='_id', strategy='hash', function='murmur3'), vector_index_config=_VectorIndexConfigHNSW(quantizer=None, cleanup_interval_seconds=300, distance_metric=<VectorDistances.COSINE: 'cosine'>, dynamic_ef_min=100, dynamic_ef_max=500, dynamic_ef_factor=8, ef=-1, ef_construction=128, flat_search_cutoff=40000, max_connections=32, skip=False, vector_cache_max_objects=1000000000000), vector_index_type=<VectorIndexType.HNSW: 'hnsw'>, vectorizer_config=_VectorizerConfig(vectorizer=<Vectorizers.TEXT2VEC_OPENAI: 'text2vec-openai'>, model={'baseURL': 'https://api.openai.com', 'model': 'ada'}, vectorize_collection_name=True), vectorizer=<Vectorizers.TEXT2VEC_OPENAI: 'text2vec-openai'>, vector_config=None)\n"
     ]
    }
   ],
   "source": [
    "try:\n",
    "    items = client.collections.get(\"Item\")\n",
    "    print(items.config.get(simple=False))\n",
    "except Exception as e:\n",
    "    print(\"Item collection does not exist\")"
   ]
  },
  {
   "cell_type": "code",
   "execution_count": 156,
   "metadata": {},
   "outputs": [
    {
     "name": "stdout",
     "output_type": "stream",
     "text": [
      "_CollectionConfig(name='Manual', description=None, generative_config=_GenerativeConfig(generative=<GenerativeSearches.OPENAI: 'generative-openai'>, model={'maxTokensProperty': 128000, 'model': 'gpt-4o'}), inverted_index_config=_InvertedIndexConfig(bm25=_BM25Config(b=0.75, k1=1.2), cleanup_interval_seconds=60, index_null_state=False, index_property_length=False, index_timestamps=False, stopwords=_StopwordsConfig(preset=<StopwordsPreset.EN: 'en'>, additions=None, removals=None)), multi_tenancy_config=_MultiTenancyConfig(enabled=False, auto_tenant_creation=False, auto_tenant_activation=False), properties=[_Property(name='manual_id', description=None, data_type=<DataType.TEXT: 'text'>, index_filterable=True, index_range_filters=False, index_searchable=True, nested_properties=None, tokenization=<Tokenization.WORD: 'word'>, vectorizer_config=_PropertyVectorizerConfig(skip=True, vectorize_property_name=True), vectorizer='text2vec-openai'), _Property(name='content', description=None, data_type=<DataType.TEXT: 'text'>, index_filterable=True, index_range_filters=False, index_searchable=True, nested_properties=None, tokenization=<Tokenization.WORD: 'word'>, vectorizer_config=_PropertyVectorizerConfig(skip=False, vectorize_property_name=True), vectorizer='text2vec-openai'), _Property(name='type', description=None, data_type=<DataType.TEXT: 'text'>, index_filterable=True, index_range_filters=False, index_searchable=True, nested_properties=None, tokenization=<Tokenization.WORD: 'word'>, vectorizer_config=_PropertyVectorizerConfig(skip=False, vectorize_property_name=True), vectorizer='text2vec-openai'), _Property(name='workspace', description=None, data_type=<DataType.TEXT: 'text'>, index_filterable=True, index_range_filters=False, index_searchable=True, nested_properties=None, tokenization=<Tokenization.WORD: 'word'>, vectorizer_config=_PropertyVectorizerConfig(skip=True, vectorize_property_name=True), vectorizer='text2vec-openai')], references=[], replication_config=_ReplicationConfig(factor=1, async_enabled=False), reranker_config=None, sharding_config=_ShardingConfig(virtual_per_physical=128, desired_count=1, actual_count=1, desired_virtual_count=128, actual_virtual_count=128, key='_id', strategy='hash', function='murmur3'), vector_index_config=_VectorIndexConfigHNSW(quantizer=None, cleanup_interval_seconds=300, distance_metric=<VectorDistances.COSINE: 'cosine'>, dynamic_ef_min=100, dynamic_ef_max=500, dynamic_ef_factor=8, ef=-1, ef_construction=128, flat_search_cutoff=40000, max_connections=32, skip=False, vector_cache_max_objects=1000000000000), vector_index_type=<VectorIndexType.HNSW: 'hnsw'>, vectorizer_config=_VectorizerConfig(vectorizer=<Vectorizers.TEXT2VEC_OPENAI: 'text2vec-openai'>, model={'baseURL': 'https://api.openai.com', 'model': 'ada'}, vectorize_collection_name=True), vectorizer=<Vectorizers.TEXT2VEC_OPENAI: 'text2vec-openai'>, vector_config=None)\n"
     ]
    }
   ],
   "source": [
    "# Create the \"Manual\" collection with a \"manual_id\" property\n",
    "def create_weaviate_manuals():\n",
    "    try:\n",
    "        manuals = client.collections.get(\"Manual\")\n",
    "        print(manuals.config.get(simple=False))\n",
    "    except Exception as e:\n",
    "        manuals = client.collections.create(\n",
    "            name=\"Manual\",\n",
    "            properties=[\n",
    "                wc.Property(name=\"manual_id\", data_type=wc.DataType.TEXT, skip_vectorization=True),\n",
    "                wc.Property(name=\"content\", data_type=wc.DataType.TEXT),\n",
    "                wc.Property(name=\"type\", data_type=wc.DataType.TEXT),\n",
    "                wc.Property(name=\"workspace\", data_type=wc.DataType.TEXT, skip_vectorization=True),\n",
    "            ],\n",
    "            vectorizer_config=wc.Configure.Vectorizer.text2vec_openai(),\n",
    "            generative_config=wc.Configure.Generative.openai(\n",
    "        model=\"gpt-4o\",\n",
    "        max_tokens=128000\n",
    "    ),\n",
    "            vector_index_config=wc.Configure.VectorIndex.hnsw(\n",
    "                distance_metric=wc.VectorDistances.COSINE,\n",
    "            ),\n",
    "        )\n",
    "        print(manuals.config.get(simple=False))\n",
    "\n",
    "create_weaviate_manuals()\n"
   ]
  },
  {
   "cell_type": "code",
   "execution_count": null,
   "metadata": {},
   "outputs": [],
   "source": [
    "items = client.collections.get(\"Item\")\n",
    "manuals =client.collections.get(\"Manual\")"
   ]
  },
  {
   "cell_type": "code",
   "execution_count": 199,
   "metadata": {},
   "outputs": [],
   "source": [
    "def create_item(items,id, name, description, box, workspace):\n",
    "    items.data.insert(\n",
    "        properties={\n",
    "            \"id\": id,\n",
    "            \"name\": name,\n",
    "            \"description\": description,\n",
    "            \"box\": box,\n",
    "            \"workspace\": workspace,\n",
    "        },\n",
    "    )\n",
    "\n",
    "# create_item(items = items,id=\"item-12345\",name=\"Whisk\",description=\"Whisk for cooking\",box=\"Cabinet2\",workspace=\"Kitchen\")\n",
    "create_item(items = items,id=\"item-12346\",name=\"Rice Cooker\",description=\"A high-quality rice cooker from Hitachi\",box=\"Cabinet2\",workspace=\"Kitchen\")\n",
    "create_item(items=items, id=\"item-12347\", name=\"Cutting Board\", description=\"A cutting board for chopping vegetables\", box=\"Cabinet2\", workspace=\"Kitchen\")\n",
    "create_item(items=items, id=\"item-12348\", name=\"Blender\", description=\"A blender for making smoothies\", box=\"Cabinet2\", workspace=\"Kitchen\")\n",
    "create_item(items=items, id=\"item-12349\", name=\"Toaster\", description=\"A toaster for toasting bread\", box=\"Cabinet2\", workspace=\"Kitchen\")\n",
    "create_item(items=items, id=\"item-12350\", name=\"Coffee Maker\", description=\"A coffee maker for brewing coffee\", box=\"Cabinet2\", workspace=\"Kitchen\")\n",
    "create_item(items=items, id=\"item-12351\", name=\"Frying Pan\", description=\"A frying pan for cooking eggs\", box=\"Cabinet2\", workspace=\"Kitchen\")\n",
    "create_item(items=items, id=\"item-12352\", name=\"Saucepan\", description=\"A saucepan for cooking pasta\", box=\"Cabinet2\", workspace=\"Kitchen\")\n",
    "create_item(items=items, id=\"item-12353\", name=\"Cutting Knife\", description=\"A cutting knife for chopping vegetables\", box=\"Cabinet2\", workspace=\"Kitchen\")\n",
    "\n",
    "\n",
    "\n"
   ]
  },
  {
   "cell_type": "code",
   "execution_count": 200,
   "metadata": {},
   "outputs": [],
   "source": [
    "create_item(items=items, id=\"item-12354\", name=\"Baking Sheet\", description=\"A baking sheet for baking cookies\", box=\"Cabinet1\", workspace=\"Kitchen\")\n",
    "create_item(items=items, id=\"item-12355\", name=\"Mixing Bowl\", description=\"A mixing bowl for mixing ingredients\", box=\"Cabinet1\", workspace=\"Kitchen\")\n",
    "create_item(items=items, id=\"item-12356\", name=\"Measuring Cups\", description=\"A set of measuring cups for cooking\", box=\"Cabinet1\", workspace=\"Kitchen\")\n",
    "create_item(items=items, id=\"item-12357\", name=\"Measuring Spoons\", description=\"A set of measuring spoons for cooking\", box=\"Cabinet1\", workspace=\"Kitchen\")\n",
    "create_item(items=items, id=\"item-12355\", name=\"Mixing Bowl\", description=\"A mixing bowl for mixing ingredients\", box=\"Cabinet1\", workspace=\"Kitchen\")\n",
    "\n"
   ]
  },
  {
   "cell_type": "code",
   "execution_count": 201,
   "metadata": {},
   "outputs": [],
   "source": [
    "create_item(items=items, id=\"item-12358\", name=\"wrench\", description=\"wrench for tightening screws\", box=\"box1\", workspace=\"garage\")\n",
    "create_item(items=items, id=\"item-12359\", name=\"screwdriver\", description=\"screwdriver for tightening screws\", box=\"box1\", workspace=\"garage\")\n",
    "create_item(items=items, id=\"item-12360\", name=\"hammer\", description=\"hammer for pounding nails\", box=\"box1\", workspace=\"garage\")\n",
    "create_item(items=items, id=\"item-12361\", name=\"nails\", description=\"nails for building\", box=\"box1\", workspace=\"garage\")\n",
    "create_item(items=items, id=\"item-12362\", name=\"saw\", description=\"saw for cutting wood\", box=\"box1\", workspace=\"garage\")\n",
    "create_item(items=items, id=\"item-12363\", name=\"drill\", description=\"drill for drilling holes\", box=\"box1\", workspace=\"garage\")\n",
    "create_item(items=items, id=\"item-12364\", name=\"screw\", description=\"screw for building\", box=\"box1\", workspace=\"garage\")\n",
    "\n",
    "\n"
   ]
  },
  {
   "cell_type": "code",
   "execution_count": null,
   "metadata": {},
   "outputs": [],
   "source": []
  },
  {
   "cell_type": "code",
   "execution_count": 194,
   "metadata": {},
   "outputs": [],
   "source": [
    "# def update_item(items,id, name, description, box, workspace):\n",
    "#     items.data.update(\n",
    "#         properties={\n",
    "#             \"id\": id,\n",
    "#             \"name\": name,\n",
    "#             \"description\": description,\n",
    "#             \"box\": box,\n",
    "#             \"workspace\": workspace,\n",
    "#         },\n",
    "#     )\n",
    "def update_data(collection,uuid, properties):\n",
    "# Update data\n",
    "    collection.data.update(\n",
    "        uuid=uuid,\n",
    "        properties=properties,\n",
    "\n",
    "    )\n",
    "\n",
    "properties = {\n",
    "    \"description\": \"My beloved Hitachi slow cooker is a great asset to my kitchen.\"\n",
    "}\n",
    "\n",
    "update_data(collection=items, uuid =\"80be0960-2546-4dae-83e6-ce3b559ba586\",properties=properties)\n"
   ]
  },
  {
   "cell_type": "code",
   "execution_count": null,
   "metadata": {},
   "outputs": [
    {
     "name": "stdout",
     "output_type": "stream",
     "text": [
      "True\n"
     ]
    }
   ],
   "source": [
    "def delete_item(items, uuid):\n",
    "    delted_item = items.data.delete_by_id(uuid)\n",
    "    print(delted_item)\n",
    "delete_item(items, \"77405086-8c27-4e7c-afdc-c0950832a89e\")"
   ]
  },
  {
   "cell_type": "code",
   "execution_count": 188,
   "metadata": {},
   "outputs": [
    {
     "name": "stdout",
     "output_type": "stream",
     "text": [
      "QueryReturn(objects=[Object(uuid=_WeaviateUUIDInt('80be0960-2546-4dae-83e6-ce3b559ba586'), metadata=MetadataReturn(creation_time=None, last_update_time=None, distance=None, certainty=None, score=None, explain_score=None, is_consistent=None, rerank_score=None), properties={'workspace': 'Kitchen', 'description': 'the best Hitachi slow cooker for everything.', 'box': 'Cabinet2', 'item_id': 'item-12345', 'name': 'slow cooker'}, references=None, vector={}, collection='Item')])\n",
      "UUID for item-12345: 80be0960-2546-4dae-83e6-ce3b559ba586\n"
     ]
    }
   ],
   "source": [
    "def find_object_uuid(collection, id):\n",
    "    results = collection.query.fetch_objects(\n",
    "        filters=Filter.by_property(\"id\").equal(id)\n",
    "    )\n",
    "    if results:\n",
    "        print(results)\n",
    "        result = results.objects\n",
    "        # If we found a matching object, update it\n",
    "        uuid = result[0].uuid\n",
    "        print(f\"UUID for {id}: {uuid}\")\n",
    "    else:\n",
    "        print(f\"No data found for id: {id}\")\n",
    "\n",
    "find_object_uuid(collection=items, id=\"item-12345\")\n",
    "\n"
   ]
  },
  {
   "cell_type": "code",
   "execution_count": 165,
   "metadata": {},
   "outputs": [
    {
     "data": {
      "text/plain": [
       "True"
      ]
     },
     "execution_count": 165,
     "metadata": {},
     "output_type": "execute_result"
    }
   ],
   "source": [
    "# Delete an item\n",
    "items.data.delete_by_id(\n",
    "    uuid=\"d9e21364-9714-4804-9a5a-a08ecb7dde37\",\n",
    ")"
   ]
  },
  {
   "cell_type": "code",
   "execution_count": 300,
   "metadata": {},
   "outputs": [],
   "source": [
    "def print_response_details(response):\n",
    "    objects = response.objects  # Access the 'objects' attribute of the response\n",
    "    if response.generated:\n",
    "        print(\"AI Response-------------\")\n",
    "        print(response.generated)\n",
    "        print(\"-------------\")\n",
    "    for obj in objects:\n",
    "        # Accessing UUID\n",
    "        uuid = obj.uuid\n",
    "        print(\"-------------\")\n",
    "        print(\"UUID:\", uuid)\n",
    "\n",
    "        # Accessing Metadata (if needed)\n",
    "        # creation_time = obj.metadata.creation_time\n",
    "        # print(\"Creation Time:\", creation_time)\n",
    "\n",
    "        # Accessing properties\n",
    "        properties = obj.properties\n",
    "        workspace = properties['workspace']\n",
    "        # description = properties['description']\n",
    "        # box = properties['box']\n",
    "        id = properties['item_id']\n",
    "        name = properties['name']\n",
    "        description = properties['description']\n",
    "        # print(\"Description:\", description)\n",
    "        # print(\"Box:\", box)\n",
    "        print(\"Item ID:\", id)\n",
    "        print(\"Name:\", name)\n",
    "        print(\"Workspace:\", workspace)\n",
    "        print(\"Description:\", description)\n",
    "        # Accessing collection if needed\n",
    "        collection = obj.collection\n",
    "        print(\"Collection:\", collection)\n"
   ]
  },
  {
   "cell_type": "code",
   "execution_count": 306,
   "metadata": {},
   "outputs": [
    {
     "name": "stdout",
     "output_type": "stream",
     "text": [
      "GenerativeReturn(objects=[GenerativeObject(uuid=_WeaviateUUIDInt('ba88df83-0ea6-482c-97f1-8786ff74a57b'), metadata=MetadataReturn(creation_time=None, last_update_time=None, distance=None, certainty=None, score=None, explain_score=None, is_consistent=None, rerank_score=None), properties={'description': '13kg 180deg', 'box': 'Jula1', 'box_id': 21, 'item_id': 17, 'workspace': 'Movinggo', 'workspace_id': 20, 'name': 'Servo'}, references=None, vector={}, collection='Item', generated=None), GenerativeObject(uuid=_WeaviateUUIDInt('bef2cfa2-fc1d-45a9-93cc-bf5f25403051'), metadata=MetadataReturn(creation_time=None, last_update_time=None, distance=None, certainty=None, score=None, explain_score=None, is_consistent=None, rerank_score=None), properties={'description': 'micro controller', 'box': 'Jula1', 'box_id': 21, 'item_id': 4, 'workspace': 'Movinggo', 'workspace_id': 20, 'name': 'Pico'}, references=None, vector={}, collection='Item', generated=None), GenerativeObject(uuid=_WeaviateUUIDInt('b39ba85a-91ab-4097-802c-36c1dcead80b'), metadata=MetadataReturn(creation_time=None, last_update_time=None, distance=None, certainty=None, score=None, explain_score=None, is_consistent=None, rerank_score=None), properties={'description': '', 'box': 'Jula1', 'box_id': 21, 'item_id': 16, 'workspace': 'Movinggo', 'workspace_id': 20, 'name': 'New Item'}, references=None, vector={}, collection='Item', generated=None), GenerativeObject(uuid=_WeaviateUUIDInt('58efa292-77e2-4c9a-8cde-099a4f9f88c2'), metadata=MetadataReturn(creation_time=None, last_update_time=None, distance=None, certainty=None, score=None, explain_score=None, is_consistent=None, rerank_score=None), properties={'box_id': 21, 'box': 'Jula1', 'description': '', 'item_id': 6, 'workspace': 'Movinggo', 'workspace_id': 20, 'name': 'person'}, references=None, vector={}, collection='Item', generated=None), GenerativeObject(uuid=_WeaviateUUIDInt('0d79fd98-97dc-440a-93ad-14690c430ef7'), metadata=MetadataReturn(creation_time=None, last_update_time=None, distance=None, certainty=None, score=None, explain_score=None, is_consistent=None, rerank_score=None), properties={'box_id': 21, 'box': 'Jula1', 'description': '', 'item_id': 12, 'workspace': 'Movinggo', 'workspace_id': 20, 'name': 'cell phone'}, references=None, vector={}, collection='Item', generated=None)], generated='[{\"box\":\"Jula1\",\"description\":\"13kg 180deg\",\"name\":\"Servo\",\"workspace\":\"Movinggo\"}]')\n",
      "AI Response-------------\n",
      "[{\"box\":\"Jula1\",\"description\":\"13kg 180deg\",\"name\":\"Servo\",\"workspace\":\"Movinggo\"}]\n",
      "-------------\n",
      "-------------\n",
      "UUID: ba88df83-0ea6-482c-97f1-8786ff74a57b\n",
      "Item ID: 17\n",
      "Name: Servo\n",
      "Workspace: Movinggo\n",
      "Description: 13kg 180deg\n",
      "Collection: Item\n",
      "-------------\n",
      "UUID: bef2cfa2-fc1d-45a9-93cc-bf5f25403051\n",
      "Item ID: 4\n",
      "Name: Pico\n",
      "Workspace: Movinggo\n",
      "Description: micro controller\n",
      "Collection: Item\n",
      "-------------\n",
      "UUID: b39ba85a-91ab-4097-802c-36c1dcead80b\n",
      "Item ID: 16\n",
      "Name: New Item\n",
      "Workspace: Movinggo\n",
      "Description: \n",
      "Collection: Item\n",
      "-------------\n",
      "UUID: 58efa292-77e2-4c9a-8cde-099a4f9f88c2\n",
      "Item ID: 6\n",
      "Name: person\n",
      "Workspace: Movinggo\n",
      "Description: \n",
      "Collection: Item\n",
      "-------------\n",
      "UUID: 0d79fd98-97dc-440a-93ad-14690c430ef7\n",
      "Item ID: 12\n",
      "Name: cell phone\n",
      "Workspace: Movinggo\n",
      "Description: \n",
      "Collection: Item\n"
     ]
    }
   ],
   "source": [
    "#semantic search\n",
    "query = \"servo\"\n",
    "response = items.generate.near_text(\n",
    "    query=query,\n",
    "    limit=5,\n",
    "    # filters = Filter.by_property(\"workspace\").not_equal(\"ds\")\n",
    "    grouped_task=f\"remove the item that does not match the query: {query}, return only the items that match the query, no explanation needed! if none, return empty array\"\n",
    "    # filters=Filter.by_property(\"workspace\").equal(\"Movinggo\")\n",
    ")\n",
    "print(response)\n",
    "# Assuming 'response' is an instance of QueryReturn as returned from Weaviate\n",
    "print_response_details(response)\n"
   ]
  },
  {
   "cell_type": "code",
   "execution_count": 282,
   "metadata": {},
   "outputs": [],
   "source": [
    "filters = Filter.by_property(\"workspace\")\n",
    "workspace = \"\"\n",
    "if workspace:\n",
    "    filters = filters.equal(workspace)\n",
    "else:\n",
    "    filters = filters.not_equal(\"d\")"
   ]
  },
  {
   "cell_type": "code",
   "execution_count": 284,
   "metadata": {},
   "outputs": [
    {
     "name": "stdout",
     "output_type": "stream",
     "text": [
      "QueryReturn(objects=[Object(uuid=_WeaviateUUIDInt('fb369f76-4fe2-4033-82f0-669b1a353fc0'), metadata=MetadataReturn(creation_time=None, last_update_time=None, distance=None, certainty=None, score=None, explain_score=None, is_consistent=None, rerank_score=None), properties={'workspace': 'Movinggo', 'description': '', 'box': 'Jula1', 'item_id': 12, 'name': 'cell phone'}, references=None, vector={}, collection='Item'), Object(uuid=_WeaviateUUIDInt('6259ce40-550c-4fbc-aead-2f88ee83c83f'), metadata=MetadataReturn(creation_time=None, last_update_time=None, distance=None, certainty=None, score=None, explain_score=None, is_consistent=None, rerank_score=None), properties={'workspace': 'Movinggo', 'description': 'for calls', 'box': 'Jula2', 'item_id': 22, 'name': 'phone'}, references=None, vector={}, collection='Item'), Object(uuid=_WeaviateUUIDInt('c54b5a2f-ea34-432c-85ca-1b3eb12aef83'), metadata=MetadataReturn(creation_time=None, last_update_time=None, distance=None, certainty=None, score=None, explain_score=None, is_consistent=None, rerank_score=None), properties={'name': 'Hitachi rice cooker', 'description': 'Hitachi', 'box': 'Jula2', 'item_id': 27, 'workspace': 'Movinggo'}, references=None, vector={}, collection='Item')])\n",
      "[Object(uuid=_WeaviateUUIDInt('fb369f76-4fe2-4033-82f0-669b1a353fc0'), metadata=MetadataReturn(creation_time=None, last_update_time=None, distance=None, certainty=None, score=None, explain_score=None, is_consistent=None, rerank_score=None), properties={'workspace': 'Movinggo', 'description': '', 'box': 'Jula1', 'item_id': 12, 'name': 'cell phone'}, references=None, vector={}, collection='Item'), Object(uuid=_WeaviateUUIDInt('6259ce40-550c-4fbc-aead-2f88ee83c83f'), metadata=MetadataReturn(creation_time=None, last_update_time=None, distance=None, certainty=None, score=None, explain_score=None, is_consistent=None, rerank_score=None), properties={'workspace': 'Movinggo', 'description': 'for calls', 'box': 'Jula2', 'item_id': 22, 'name': 'phone'}, references=None, vector={}, collection='Item'), Object(uuid=_WeaviateUUIDInt('c54b5a2f-ea34-432c-85ca-1b3eb12aef83'), metadata=MetadataReturn(creation_time=None, last_update_time=None, distance=None, certainty=None, score=None, explain_score=None, is_consistent=None, rerank_score=None), properties={'name': 'Hitachi rice cooker', 'description': 'Hitachi', 'box': 'Jula2', 'item_id': 27, 'workspace': 'Movinggo'}, references=None, vector={}, collection='Item')]\n",
      "-------------\n",
      "UUID: fb369f76-4fe2-4033-82f0-669b1a353fc0\n",
      "Item ID: 12\n",
      "Name: cell phone\n",
      "Workspace: Movinggo\n",
      "Description: \n",
      "Collection: Item\n",
      "-------------\n",
      "UUID: 6259ce40-550c-4fbc-aead-2f88ee83c83f\n",
      "Item ID: 22\n",
      "Name: phone\n",
      "Workspace: Movinggo\n",
      "Description: for calls\n",
      "Collection: Item\n",
      "-------------\n",
      "UUID: c54b5a2f-ea34-432c-85ca-1b3eb12aef83\n",
      "Item ID: 27\n",
      "Name: Hitachi rice cooker\n",
      "Workspace: Movinggo\n",
      "Description: Hitachi\n",
      "Collection: Item\n"
     ]
    }
   ],
   "source": [
    "response = items.query.near_text(\n",
    "    query=\"person\",\n",
    "    limit=5,\n",
    "    # filters = filters\n",
    "    filters=Filter.by_property(\"workspace\").equal(\"Movinggo\")\n",
    "    filters=Filter.by_property(\"workspace\").equal(\"Movinggo\")\n",
    ")\n",
    "print(response)\n",
    "# Assuming 'response' is an instance of QueryReturn as returned from Weaviate\n",
    "print_response_details(response)"
   ]
  },
  {
   "cell_type": "code",
   "execution_count": 251,
   "metadata": {},
   "outputs": [
    {
     "name": "stdout",
     "output_type": "stream",
     "text": [
      "QueryReturn(objects=[])\n",
      "[]\n"
     ]
    }
   ],
   "source": [
    "#Keyword Search\n",
    "response = items.query.bm25(\n",
    "    query=\"person\",\n",
    "    limit=20,\n",
    "    # filters=Filter.by_property(\"workspace\").equal(\"Movinggo\")\n",
    ")\n",
    "print(response)\n",
    "# Assuming 'response' is an instance of QueryReturn as returned from Weaviate\n",
    "print_response_details(response)\n",
    "\n"
   ]
  },
  {
   "cell_type": "code",
   "execution_count": 236,
   "metadata": {},
   "outputs": [
    {
     "name": "stdout",
     "output_type": "stream",
     "text": [
      "QueryReturn(objects=[])\n",
      "results\n"
     ]
    }
   ],
   "source": [
    "results = items.query.fetch_objects(\n",
    "        filters=Filter.by_property(\"item_id\").equal(5)\n",
    "    )\n",
    "\n",
    "print(results)\n",
    "if results:\n",
    "    print(\"results\")\n",
    "if len(results.objects) > 0:\n",
    "    for obj in results:\n",
    "        print(obj.properties)"
   ]
  },
  {
   "cell_type": "code",
   "execution_count": 230,
   "metadata": {},
   "outputs": [
    {
     "data": {
      "text/plain": [
       "True"
      ]
     },
     "execution_count": 230,
     "metadata": {},
     "output_type": "execute_result"
    }
   ],
   "source": [
    "items.data.delete_by_id(\n",
    "    uuid=\"5626b950-6cd2-4be5-ac09-4a80aa2619e0\",\n",
    ")"
   ]
  },
  {
   "cell_type": "code",
   "execution_count": 295,
   "metadata": {},
   "outputs": [
    {
     "name": "stdout",
     "output_type": "stream",
     "text": [
      "You should put the items in the following boxes:\n",
      "\n",
      "- Hitachi rice cooker: Jula2\n",
      "- New Item: Jula1\n",
      "- Scissors: Jula1\n",
      "- Servo: Jula1\n",
      "- Person: Jula1\n",
      "-------------\n",
      "Name: Hitachi rice cooker\n",
      "Description: Hitachi\n",
      "None\n",
      "-------------\n",
      "Name: New Item\n",
      "Description: \n",
      "None\n",
      "-------------\n",
      "Name: scissors\n",
      "Description: \n",
      "None\n",
      "-------------\n",
      "Name: Servo\n",
      "Description: 13kg 180deg\n",
      "None\n",
      "-------------\n",
      "Name: person\n",
      "Description: \n",
      "None\n"
     ]
    }
   ],
   "source": [
    "#For generative search and llm response\n",
    "response = items.generate.near_text(\n",
    "    query=\"something to cook with\",\n",
    "    limit=5,\n",
    "    # filters=wq.Filter.by_property(\"runtime\").less_than(100) & wq.Filter.by_property(\"runtime\").greater_than(50),\n",
    "    # prompt for every single object\n",
    "    # single_prompt=\"How can I use this item?: {description}\",\n",
    "    grouped_task=\"where should I put these items?: {description}, please answer shortly\"\n",
    "\n",
    ")\n",
    "\n",
    "# the response for the grouped task will be in response.generated\n",
    "print(response.generated)\n",
    "#the return for the single prompt will be in object.generated\n",
    "for o in response.objects:\n",
    "    print(\"-------------\")\n",
    "    print(\"Name:\", o.properties['name'])\n",
    "    print(\"Description:\", o.properties['description'])\n",
    "    print(o.generated)\n",
    "\n"
   ]
  },
  {
   "cell_type": "code",
   "execution_count": 297,
   "metadata": {},
   "outputs": [
    {
     "name": "stdout",
     "output_type": "stream",
     "text": [
      "To use the items listed in your JSON-like structure, you need to understand what each item is and its intended purpose. Here's a breakdown of how you might use each item:\n",
      "\n",
      "1. **Hitachi Rice Cooker**:\n",
      "   - **Purpose**: A rice cooker is an appliance used to cook rice and other grains.\n",
      "   - **Usage**:\n",
      "     1. Measure the amount of rice you want to cook using the measuring cup that typically comes with the rice cooker.\n",
      "     2. Rinse the rice under cold water until the water runs clear to remove excess starch.\n",
      "     3. Place the rinsed rice into the rice cooker's inner pot.\n",
      "     4. Add water according to the rice cooker's instructions or the rice-to-water ratio you prefer.\n",
      "     5. Close the lid of the rice cooker and select the appropriate cooking setting (e.g., white rice, brown rice, etc.).\n",
      "     6. Press the start button. The rice cooker will automatically cook the rice and switch to a \"keep warm\" mode once done.\n",
      "     7. Allow the rice to rest for a few minutes before opening the lid to let any excess moisture evaporate.\n",
      "     8. Fluff the rice with a fork or rice paddle before serving.\n",
      "\n",
      "2. **New Item**:\n",
      "   - **Description**: The item is labeled as \"New Item\" with no additional description provided.\n",
      "   - **Usage**: Since there is no description, it's unclear what this item is or how it should be used. You may need to:\n",
      "     - Physically inspect the item to determine its function.\n",
      "     - Check any accompanying manuals or documentation for instructions.\n",
      "     - Contact the supplier or manufacturer for more information if necessary.\n",
      "\n",
      "If you have more specific questions about these items or need further assistance, feel free to ask!\n",
      "-------------\n",
      "Name: Hitachi rice cooker\n",
      "Description: Hitachi\n",
      "None\n",
      "-------------\n",
      "Name: New Item\n",
      "Description: \n",
      "None\n"
     ]
    }
   ],
   "source": [
    "#For generative search and llm response\n",
    "response = items.generate.near_text(\n",
    "    query=\"something to cook with\",\n",
    "    limit=2,\n",
    "    # filters=wq.Filter.by_property(\"runtime\").less_than(100) & wq.Filter.by_property(\"runtime\").greater_than(50),\n",
    "    # prompt for every single object\n",
    "    # single_prompt=\"How can I use this item?: {description}\",\n",
    "    grouped_task=\"how can I use the following items?: \"\n",
    "\n",
    ")\n",
    "\n",
    "# the response for the grouped task will be in response.generated\n",
    "print(response.generated)\n",
    "#the return for the single prompt will be in object.generated\n",
    "for o in response.objects:\n",
    "    print(\"-------------\")\n",
    "    print(\"Name:\", o.properties['name'])\n",
    "    print(\"Description:\", o.properties['description'])\n",
    "    print(o.generated)"
   ]
  },
  {
   "cell_type": "code",
   "execution_count": 162,
   "metadata": {},
   "outputs": [
    {
     "name": "stdout",
     "output_type": "stream",
     "text": [
      "Cabinet2 in the Kitchen.\n"
     ]
    }
   ],
   "source": [
    "print(response.generated)\n"
   ]
  },
  {
   "cell_type": "code",
   "execution_count": null,
   "metadata": {},
   "outputs": [
    {
     "name": "stdout",
     "output_type": "stream",
     "text": [
      "_CollectionConfig(name='Test', description=None, generative_config=_GenerativeConfig(generative=<GenerativeSearches.OPENAI: 'generative-openai'>, model={}), inverted_index_config=_InvertedIndexConfig(bm25=_BM25Config(b=0.75, k1=1.2), cleanup_interval_seconds=60, index_null_state=False, index_property_length=False, index_timestamps=False, stopwords=_StopwordsConfig(preset=<StopwordsPreset.EN: 'en'>, additions=None, removals=None)), multi_tenancy_config=_MultiTenancyConfig(enabled=False, auto_tenant_creation=False, auto_tenant_activation=False), properties=[_Property(name='name', description=None, data_type=<DataType.TEXT: 'text'>, index_filterable=True, index_range_filters=False, index_searchable=True, nested_properties=None, tokenization=<Tokenization.WORD: 'word'>, vectorizer_config=_PropertyVectorizerConfig(skip=False, vectorize_property_name=True), vectorizer='text2vec-openai')], references=[], replication_config=_ReplicationConfig(factor=1, async_enabled=False), reranker_config=None, sharding_config=_ShardingConfig(virtual_per_physical=128, desired_count=1, actual_count=1, desired_virtual_count=128, actual_virtual_count=128, key='_id', strategy='hash', function='murmur3'), vector_index_config=_VectorIndexConfigHNSW(quantizer=None, cleanup_interval_seconds=300, distance_metric=<VectorDistances.COSINE: 'cosine'>, dynamic_ef_min=100, dynamic_ef_max=500, dynamic_ef_factor=8, ef=-1, ef_construction=128, flat_search_cutoff=40000, max_connections=32, skip=False, vector_cache_max_objects=1000000000000), vector_index_type=<VectorIndexType.HNSW: 'hnsw'>, vectorizer_config=_VectorizerConfig(vectorizer=<Vectorizers.TEXT2VEC_OPENAI: 'text2vec-openai'>, model={'baseURL': 'https://api.openai.com', 'model': 'ada'}, vectorize_collection_name=True), vectorizer=<Vectorizers.TEXT2VEC_OPENAI: 'text2vec-openai'>, vector_config=None)\n"
     ]
    }
   ],
   "source": [
    "test = client.collections.create(\n",
    "    name=\"test\",\n",
    "    properties=[\n",
    "        wc.Property(name=\"name\", data_type=wc.DataType.TEXT)\n",
    "    ],\n",
    "    vectorizer_config=wc.Configure.Vectorizer.text2vec_openai(),\n",
    "    generative_config=wc.Configure.Generative.openai(),\n",
    "    vector_index_config=wc.Configure.VectorIndex.hnsw(\n",
    "                distance_metric=wc.VectorDistances.COSINE,\n",
    "            ),\n",
    ")\n",
    "\n",
    "print(test.config.get(simple=False))\n"
   ]
  },
  {
   "cell_type": "code",
   "execution_count": null,
   "metadata": {},
   "outputs": [
    {
     "name": "stdout",
     "output_type": "stream",
     "text": [
      "c218e9d9-ffd1-4a44-835e-1a03c64470de\n"
     ]
    }
   ],
   "source": [
    "inserted_data= test.data.insert(\n",
    "    properties={\n",
    "        \"name\": \"test\",\n",
    "        \"vector\": \"\"\n",
    "    }\n",
    ")\n",
    "\n",
    "print(inserted_data)\n",
    "\n"
   ]
  },
  {
   "cell_type": "code",
   "execution_count": null,
   "metadata": {},
   "outputs": [
    {
     "name": "stdout",
     "output_type": "stream",
     "text": [
      "No objects found\n"
     ]
    }
   ],
   "source": [
    "where_filter = {\n",
    "    \"path\": [\"name\"],\n",
    "    \"operator\": \"Equal\",\n",
    "    \"valueText\": \"test\",\n",
    "}\n",
    "response = test.query.bm25(\n",
    "    query=\"c218e9d9-ffd1-4a44-835e-1a03c64470de\",\n",
    "    limit=1\n",
    ")\n",
    "objects = response.objects\n",
    "if(len(objects) > 0):\n",
    "    for obj in objects:\n",
    "        print(obj.properties)\n",
    "else:\n",
    "    print(\"No objects found\")\n"
   ]
  },
  {
   "cell_type": "code",
   "execution_count": null,
   "metadata": {},
   "outputs": [
    {
     "name": "stdout",
     "output_type": "stream",
     "text": [
      "{'name': 'test'}\n"
     ]
    }
   ],
   "source": [
    "import weaviate.classes.query as wq\n",
    "response = test.query.near_text( \n",
    "    query=\"c218e9d9-ffd1-4a44-835e-1a03c64470de\",\n",
    "    limit=1,\n",
    "    # filters=wq.Filter.by_id().equal(\"c218e9d9-ffd1-4a44-835e-1a03c64470de\")\n",
    ")\n",
    "objects = response.objects\n",
    "if(len(objects) > 0):\n",
    "    for obj in objects:\n",
    "        print(obj.properties)\n",
    "else:\n",
    "    print(\"No objects found\")"
   ]
  }
 ],
 "metadata": {
  "kernelspec": {
   "display_name": "venv",
   "language": "python",
   "name": "python3"
  },
  "language_info": {
   "codemirror_mode": {
    "name": "ipython",
    "version": 3
   },
   "file_extension": ".py",
   "mimetype": "text/x-python",
   "name": "python",
   "nbconvert_exporter": "python",
   "pygments_lexer": "ipython3",
   "version": "3.11.5"
  }
 },
 "nbformat": 4,
 "nbformat_minor": 2
}
